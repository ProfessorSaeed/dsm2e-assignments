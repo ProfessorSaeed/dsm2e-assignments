{
 "cells": [
  {
   "cell_type": "markdown",
   "id": "1ddccce9",
   "metadata": {},
   "source": [
    "# Week 1 -- Assignment 1 -- Topic: Python Basics"
   ]
  },
  {
   "cell_type": "markdown",
   "id": "034e1cae",
   "metadata": {},
   "source": [
    "### Ques 1. Create one variable containing following type of data:<br>(i) string<br>(ii) list<br>(iii) float<br>(iv) tuple"
   ]
  },
  {
   "cell_type": "markdown",
   "id": "29a8e119",
   "metadata": {},
   "source": [
    "### Explanation:\n",
    "1. A **string** is a data type used to represent a sequence of characters. <br> A string is created by enclosing a sequence of characters within either single quotes (' '), double quotes (\" \"), or triple quotes (''' ''' or \"\"\" \"\"\").\n",
    "\n",
    "\n",
    "2. A **list** is a data type used to store collections of items. We can add, remove, or modify elements in a list. Lists are ordered, mutable collection of elements. Lists can contain elements of different data types, including numbers, strings, other lists, or any other Python objects. <br> A list is created by enclosing a comma-separated sequence of items within square brackets ([ ]).\n",
    "\n",
    "\n",
    "3. The **float** data type is used to represent floating-point numbers, which are numbers with a decimal point or in exponential notation. Floats are a fundamental numeric data type and are used to represent real numbers, including both rational and irrational numbers. <br> Floats are created by specifying a number with a decimal point or by using exponential notation (using the letter 'e' to represent the exponent - for example: a = $1.23e-4$  will assign the value $0.000123$ to the variable a).\n",
    "\n",
    "\n",
    "4. A **tuple** is a data type used to represent an ordered, immutable collection of elements. Tuples are similar to lists, but they cannot be modified once they are created. Tuples can contain elements of different data types, similar to lists.<br> A tuple is created by enclosing a comma-separated sequence of items within parentheses ()."
   ]
  },
  {
   "cell_type": "markdown",
   "id": "3817f1c6",
   "metadata": {},
   "source": [
    "### Program/Code:"
   ]
  },
  {
   "cell_type": "code",
   "execution_count": 32,
   "id": "3709622b",
   "metadata": {},
   "outputs": [],
   "source": [
    "# variable containing data type string\n",
    "\n",
    "var_1 = 'An approximate value of pi is 3.14'\n",
    "\n",
    "# variable containing data type list\n",
    "\n",
    "var_2 = ['pi', 3.14]\n",
    "\n",
    "# variable containing data type float\n",
    "\n",
    "var_3 = 3.14\n",
    "\n",
    "# variable containing data type tuple\n",
    "\n",
    "var_4 = ('pi',3.14)"
   ]
  },
  {
   "cell_type": "markdown",
   "id": "a700427e",
   "metadata": {},
   "source": [
    "### Ques 2. Given are some variables containing data:<br>(i) var1 = ' '<br>(ii) var2 = '[DS, ML, Python]'<br>(iii) var3 = ['DS', 'ML', 'Python']<br>(iv) var4 = 1<br>What will be the data type of the above given variables?"
   ]
  },
  {
   "cell_type": "markdown",
   "id": "0ad87ac1",
   "metadata": {},
   "source": [
    "### Explanation:\n",
    "* We can check the data type of a variable or value using the **type()** function.\n",
    "* The **type()** function returns the data type of the specified object."
   ]
  },
  {
   "cell_type": "markdown",
   "id": "f48d71b7",
   "metadata": {},
   "source": [
    "### Program/Code:"
   ]
  },
  {
   "cell_type": "code",
   "execution_count": 33,
   "id": "75e7e6dc",
   "metadata": {},
   "outputs": [
    {
     "name": "stdout",
     "output_type": "stream",
     "text": [
      "Data type of var1 is <class 'str'>\n",
      "Data type of var2 is <class 'str'>\n",
      "Data type of var3 is <class 'list'>\n",
      "Data type of var4 is <class 'int'>\n"
     ]
    }
   ],
   "source": [
    "# creating the variables specified in the question\n",
    "\n",
    "var1 = ''\n",
    "var2 = '[DS, ML, Python]'\n",
    "var3 = ['DS', 'ML', 'Python']\n",
    "var4 = 1\n",
    "\n",
    "# printing the data type for each of the varibles\n",
    "\n",
    "print(\"Data type of var1 is\",type(var1))\n",
    "print(\"Data type of var2 is\",type(var2))\n",
    "print(\"Data type of var3 is\",type(var3))\n",
    "print(\"Data type of var4 is\",type(var4))"
   ]
  },
  {
   "cell_type": "markdown",
   "id": "30b38d4e",
   "metadata": {},
   "source": [
    "### Ques 3. Explain the use of the following operators using an example:<br>(i) /<br>(ii) %<br>(iii) //<br>(iv) **"
   ]
  },
  {
   "cell_type": "markdown",
   "id": "0a782e97",
   "metadata": {},
   "source": [
    "### Explanation:\n",
    "(i). The / operator is used for division.It performs division between two numbers and returns the result as a floating-point number (even if the result is a whole number).\n",
    "\n",
    "(ii). The % operator is known as the \"modulo\" operator. It is used to find the remainder of the division of one number by another.\n",
    "\n",
    "(iii). The // operator is known as the \"floor division\" operator. It is used for performing division between two numbers and returns the floor (integer) value of the result. The floor value is the largest integer that is less than or equal to the result of the division.\n",
    "\n",
    "(iv). The ** operator is used for exponentiation. It is also known as the \"power\" or \"exponent\" operator. The ** operator is used with two operands: the base and the exponent, where the base is raised to the power of the exponent."
   ]
  },
  {
   "cell_type": "markdown",
   "id": "ce03b71b",
   "metadata": {},
   "source": [
    "### Program/Code:"
   ]
  },
  {
   "cell_type": "code",
   "execution_count": 34,
   "id": "b5d58d11",
   "metadata": {},
   "outputs": [
    {
     "name": "stdout",
     "output_type": "stream",
     "text": [
      "a =  5.0\n",
      "b =  3\n",
      "c =  6\n",
      "d =  32\n"
     ]
    }
   ],
   "source": [
    "# Example 1:\n",
    "\n",
    "a = 10/2              # / operator is used for 'Division'\n",
    "print('a = ',a)       # Output for 10/2 is 5.0\n",
    "\n",
    "# Example 2:\n",
    "\n",
    "b = 15%4              # % operator is used for 'Modulus'\n",
    "print('b = ',b)       # Output for 15 % 4 is 3\n",
    "\n",
    "# Example 3:\n",
    "\n",
    "c = 20//3             # // operator is used for 'Floor Division'\n",
    "print('c = ',c)       # Output for 20//3 is 6\n",
    "\n",
    "# Example 4:\n",
    "\n",
    "d = 2**5              # ** operator is used for 'Exponentiation'\n",
    "print('d = ',d)       # Output for 2**5 is 32"
   ]
  },
  {
   "cell_type": "markdown",
   "id": "88d0a65d",
   "metadata": {},
   "source": [
    "### Ques 4. Create a list of length 10 of your choice containing multiple types of data. Using for loop print the element and its data type."
   ]
  },
  {
   "cell_type": "markdown",
   "id": "00ba1ae5",
   "metadata": {},
   "source": [
    "### Program/Code:"
   ]
  },
  {
   "cell_type": "code",
   "execution_count": 38,
   "id": "551fe7ec",
   "metadata": {},
   "outputs": [
    {
     "name": "stdout",
     "output_type": "stream",
     "text": [
      "10 -- Data type of 10 is <class 'int'>\n",
      "10.75 -- Data type of 10.75 is <class 'float'>\n",
      "(-3+5j) -- Data type of (-3+5j) is <class 'complex'>\n",
      "True -- Data type of True is <class 'bool'>\n",
      "s -- Data type of s is <class 'str'>\n",
      "[1, 2, 3] -- Data type of [1, 2, 3] is <class 'list'>\n",
      "(100, 200, 300) -- Data type of (100, 200, 300) is <class 'tuple'>\n",
      "{3, 6, 9, 12, 15} -- Data type of {3, 6, 9, 12, 15} is <class 'set'>\n",
      "{'a': '1st Employee'} -- Data type of {'a': '1st Employee'} is <class 'dict'>\n",
      "None -- Data type of None is <class 'NoneType'>\n"
     ]
    }
   ],
   "source": [
    "# Step 1: creating a list of length 10\n",
    "\n",
    "my_list = [10,10.75,-3+5j,True,\"s\",[1,2,3],(100,200,300),{3,6,9,12,15},{'a':'1st Employee'},None]\n",
    "\n",
    "# Step 2: printng the elements of the list using for loop\n",
    "\n",
    "for elem in my_list:\n",
    "    print(elem,f\"-- Data type of {elem} is\",type(elem))"
   ]
  },
  {
   "cell_type": "markdown",
   "id": "e589c18c",
   "metadata": {},
   "source": [
    "### Explanation:\n",
    "* In the above code, we've inlcuded different types of data in a list.\n",
    "* These data types are: __int, float, complex, bool, str, list, tuple, set, dict, NoneType__.\n",
    "* The int data type represents integer numbers, which are whole numbers without a fractional part.\n",
    "* The float data type represents floating-point numbers, which are numbers with decimal points or in exponential notation, allowing for both rational and irrational numbers.\n",
    "* The complex data type is used to represent complex numbers in the form of a + bj, where a and b are real numbers and j represents the imaginary unit.\n",
    "* The bool data type represents Boolean values, which can be either True or False, and are used for logical operations and conditional expressions.\n",
    "* The str data type represents strings, which are sequences of characters and are used for representing text in Python.\n",
    "* The list data type is used to create ordered collections of elements that are mutable, allowing for dynamic resizing and modification.\n",
    "* The tuple data type is used to create ordered collections of elements that are immutable, meaning they cannot be changed after creation.\n",
    "* The set data type is used to create unordered collections of unique elements, making it useful for tasks like eliminating duplicates.\n",
    "* The dict data type, short for dictionary, is used to create collections of key-value pairs, allowing for efficient lookups and mappings.\n",
    "* The NoneType represents a special data type with a single value, None, which is often used to indicate the absence of a value or to initialize variables before they are assigned a meaningful value."
   ]
  },
  {
   "cell_type": "markdown",
   "id": "b990ef6d",
   "metadata": {},
   "source": [
    "### Ques 5. Using a while loop, verify if the number A is purely divisible by number B and if so then how many times it can be divisible."
   ]
  },
  {
   "cell_type": "markdown",
   "id": "7174bb26",
   "metadata": {},
   "source": [
    "### Program/Code:"
   ]
  },
  {
   "cell_type": "code",
   "execution_count": 51,
   "id": "f57ada26",
   "metadata": {},
   "outputs": [
    {
     "name": "stdout",
     "output_type": "stream",
     "text": [
      "Enter the dividend (A):25\n",
      "Enter the divisor (B):5\n",
      "A is purely divisible by B & it is divisible 2 times\n"
     ]
    }
   ],
   "source": [
    "# Step 1: Creating two variables to take input as value of numbers A and B\n",
    "\n",
    "A = int(input('Enter the dividend (A):'))\n",
    "B = int(input('Enter the divisor (B):'))\n",
    "\n",
    "# Step 2: Use a variable to store the count of how many times A is divisible by B\n",
    "\n",
    "div_count = 0\n",
    "\n",
    "# Step 3: Using while loop for counting number of times A is divisible by B\n",
    "\n",
    "while A%B == 0:\n",
    "    A = A//B\n",
    "    div_count +=1\n",
    "\n",
    "# Step 4: Using if-else condition for deciding whether purely divisible or not\n",
    "    \n",
    "if div_count >= 1:\n",
    "    print(f\"A is purely divisible by B & it is divisible {div_count} times\")\n",
    "else:\n",
    "    print(f\"A is not divisible by B\")"
   ]
  },
  {
   "cell_type": "markdown",
   "id": "70227074",
   "metadata": {},
   "source": [
    "### Explanation:\n",
    "* In Step 1, the code starts by taking input from the user for two integers, A and B, representing the dividend and the divisor, respectively. These values are converted to integers using __int(input(...))__ to ensure they are treated as numeric values.<br> <br>\n",
    "* In Step 2, a variable _div_count_ is initialized to 0. This variable will be used to keep track of how many times A is divisible by B. <br> <br>\n",
    "* Step 3 contains a _while_ loop. It checks if A is divisible by B by using the _modulo_ operator (%). As long as A is evenly divisible by B, meaning the remainder of the division is zero, the loop continues. Inside the loop, A is replaced by the value of A divided by B using floor division (//), and the _div_count_ is incremented to keep track of the number of divisions. <br> <br>\n",
    "* In Step 4, an _if-else_ condition checks if _div_count_ is greater than or equal to 1. If _div_count_ is greater than or equal to 1, it means that A is divisible by B, and the code prints a message indicating that A is purely divisible by B and how many times it is divisible. If _div_count_ is less than 1, it means that A is not divisible by B, and the code prints a message indicating that fact."
   ]
  },
  {
   "cell_type": "markdown",
   "id": "8e6f594c",
   "metadata": {},
   "source": [
    "### Ques 6. Create a list containing 25 int data type. Using for loop and if-else condition print if the element is divisible by 3 or not."
   ]
  },
  {
   "cell_type": "markdown",
   "id": "f3c9758c",
   "metadata": {},
   "source": [
    "### Program/Code:"
   ]
  },
  {
   "cell_type": "code",
   "execution_count": 52,
   "id": "a01edd24",
   "metadata": {},
   "outputs": [
    {
     "name": "stdout",
     "output_type": "stream",
     "text": [
      "Here's the given list: \n",
      " [36, 43, 100, 78, 55, 210, 786, 97, 110, 111, 76, 9831, 4278, 66698, 98765, 765378, 679944, 9032843, 2982459, 768, 127, 958, 8, 4562, 746347]\n",
      "Number of integers in this list: 25\n",
      "36 is divisible by 3\n",
      "43 isn't divisible by 3\n",
      "100 isn't divisible by 3\n",
      "78 is divisible by 3\n",
      "55 isn't divisible by 3\n",
      "210 is divisible by 3\n",
      "786 is divisible by 3\n",
      "97 isn't divisible by 3\n",
      "110 isn't divisible by 3\n",
      "111 is divisible by 3\n",
      "76 isn't divisible by 3\n",
      "9831 is divisible by 3\n",
      "4278 is divisible by 3\n",
      "66698 isn't divisible by 3\n",
      "98765 isn't divisible by 3\n",
      "765378 is divisible by 3\n",
      "679944 is divisible by 3\n",
      "9032843 isn't divisible by 3\n",
      "2982459 is divisible by 3\n",
      "768 is divisible by 3\n",
      "127 isn't divisible by 3\n",
      "958 isn't divisible by 3\n",
      "8 isn't divisible by 3\n",
      "4562 isn't divisible by 3\n",
      "746347 isn't divisible by 3\n"
     ]
    }
   ],
   "source": [
    "# Step 1: Creating a list containing 25 int data type\n",
    "\n",
    "int_list = [36,43,100,78,55,210,786,97,110,111,76,9831,4278,66698,98765,765378,679944,9032843,2982459,768,127,958,8,4562,746347]\n",
    "print(\"Here's the given list: \\n\",int_list)\n",
    "print('Number of integers in this list:',len(int_list))\n",
    "\n",
    "# Step 2: Checking & printing which element is divisible by 3 and which isn't using for loop and if-else condition\n",
    "\n",
    "for i in int_list:\n",
    "    if i%3 == 0:\n",
    "        print(i,'is divisible by 3')\n",
    "    else:\n",
    "        print(i,\"isn't divisible by 3\")"
   ]
  },
  {
   "cell_type": "markdown",
   "id": "8faadf70",
   "metadata": {},
   "source": [
    "### Explanation:\n",
    "* In Step 1, a list named *int_list* is created, containing 25 integer values. These integers represent a collection of numbers. After creating the list, the code prints the list and also prints the number of integers in the list making use of the **len()** function.<br><br>\n",
    "* In Step 2, the code uses a `for` loop to iterate through each element *i* in the *int_list*. Inside the loop, it checks if *i* is divisible by 3 using the modulo operator (%). If *i* is evenly divisible by 3 (i.e., i % 3 == 0), it prints that *i* is divisible by 3. Otherwise, it prints that *i* isn't divisible by 3."
   ]
  },
  {
   "cell_type": "markdown",
   "id": "f5e83c0d",
   "metadata": {},
   "source": [
    "### Ques 7. What do you understand about mutable and immutable data types? Give examples for both showing this property."
   ]
  },
  {
   "cell_type": "markdown",
   "id": "e81eda25",
   "metadata": {},
   "source": [
    "### Explanation:\n",
    "* __Mutable__ and __immutable__ data types refer to whether the values of a data type can be changed after they are created.\n",
    "* __Mutable__ data types are those whose values can be modified or changed after they are created. When you modify a mutable object, you are actually changing its state in memory, and any references to that object will reflect the updated state. Examples of mutable data types include: lists, dictionaries, etc.\n",
    "* __Immutable__ data types are those whose values cannot be changed after they are created. When you try to modify an immutable object, a new object is created with the updated value, leaving the original object unchanged. Examples of immutable data types include: strings, tuples, etc.\n",
    "* Immutable data types are often preferred for data that should not change to avoid unexpected side effects in your code. Mutable data types are useful when you need to modify data in place or when you want to maintain a reference to the same data structure with updated values."
   ]
  },
  {
   "cell_type": "markdown",
   "id": "87af6574",
   "metadata": {},
   "source": [
    "### Program/Code:"
   ]
  },
  {
   "cell_type": "code",
   "execution_count": 53,
   "id": "1541f75f",
   "metadata": {},
   "outputs": [
    {
     "name": "stdout",
     "output_type": "stream",
     "text": [
      "[10, 2, 3, 4]\n"
     ]
    }
   ],
   "source": [
    "# Mutable data type example 1 - list\n",
    "# Lists are ordered collections of elements. We can add, remove, or modify elements in a list.\n",
    "\n",
    "my_list = [1, 2, 3]\n",
    "my_list.append(4)     # Modifies the list by adding an element\n",
    "my_list[0] = 10       # Modifies the first element\n",
    "print(my_list)"
   ]
  },
  {
   "cell_type": "code",
   "execution_count": 54,
   "id": "bb66b096",
   "metadata": {},
   "outputs": [
    {
     "name": "stdout",
     "output_type": "stream",
     "text": [
      "{'name': 'Alice', 'age': 31}\n"
     ]
    }
   ],
   "source": [
    "# Mutable data type example 2 - dictionary\n",
    "# Dictionaries store key-value pairs, and we can add, remove, or modify key-value pairs.\n",
    "\n",
    "my_dict = {'name': 'Alice', 'age': 30}\n",
    "my_dict['age'] = 31                    # Modifies the value associated with the 'age' key\n",
    "print(my_dict)"
   ]
  },
  {
   "cell_type": "code",
   "execution_count": 59,
   "id": "864eb489",
   "metadata": {},
   "outputs": [
    {
     "name": "stdout",
     "output_type": "stream",
     "text": [
      "Hello\n",
      "Hello World\n"
     ]
    },
    {
     "ename": "TypeError",
     "evalue": "'str' object does not support item assignment",
     "output_type": "error",
     "traceback": [
      "\u001b[1;31m---------------------------------------------------------------------------\u001b[0m",
      "\u001b[1;31mTypeError\u001b[0m                                 Traceback (most recent call last)",
      "Cell \u001b[1;32mIn[59], line 8\u001b[0m\n\u001b[0;32m      6\u001b[0m \u001b[38;5;28mprint\u001b[39m(my_string)\n\u001b[0;32m      7\u001b[0m \u001b[38;5;28mprint\u001b[39m(new_string)\n\u001b[1;32m----> 8\u001b[0m my_string[\u001b[38;5;241m1\u001b[39m] \u001b[38;5;241m=\u001b[39m \u001b[38;5;124m'\u001b[39m\u001b[38;5;124mW\u001b[39m\u001b[38;5;124m'\u001b[39m\n",
      "\u001b[1;31mTypeError\u001b[0m: 'str' object does not support item assignment"
     ]
    }
   ],
   "source": [
    "# Immutable data type example 1 - string\n",
    "# Strings represent sequences of characters, and you cannot modify individual characters once a string is created.\n",
    "\n",
    "my_string = \"Hello\"\n",
    "new_string = my_string + \" World\"  # Creates a new string, leaving the original unchanged\n",
    "print(my_string)\n",
    "print(new_string)\n",
    "my_string[1] = 'W'                # Attempting to modify a string will result in an error:"
   ]
  },
  {
   "cell_type": "code",
   "execution_count": 60,
   "id": "45a1ab98",
   "metadata": {},
   "outputs": [
    {
     "name": "stdout",
     "output_type": "stream",
     "text": [
      "(1, 2, 3)\n"
     ]
    },
    {
     "ename": "TypeError",
     "evalue": "'tuple' object does not support item assignment",
     "output_type": "error",
     "traceback": [
      "\u001b[1;31m---------------------------------------------------------------------------\u001b[0m",
      "\u001b[1;31mTypeError\u001b[0m                                 Traceback (most recent call last)",
      "Cell \u001b[1;32mIn[60], line 6\u001b[0m\n\u001b[0;32m      4\u001b[0m my_tuple \u001b[38;5;241m=\u001b[39m (\u001b[38;5;241m1\u001b[39m, \u001b[38;5;241m2\u001b[39m, \u001b[38;5;241m3\u001b[39m)\n\u001b[0;32m      5\u001b[0m \u001b[38;5;28mprint\u001b[39m(my_tuple)\n\u001b[1;32m----> 6\u001b[0m my_tuple[\u001b[38;5;241m0\u001b[39m] \u001b[38;5;241m=\u001b[39m \u001b[38;5;241m10\u001b[39m\n",
      "\u001b[1;31mTypeError\u001b[0m: 'tuple' object does not support item assignment"
     ]
    }
   ],
   "source": [
    "# Immutable data type example 2 - tuple\n",
    "# Tuples are ordered collections, similar to lists, but they cannot be modified after creation.\n",
    "\n",
    "my_tuple = (1, 2, 3)\n",
    "print(my_tuple)\n",
    "my_tuple[0] = 10            # Attempting to modify a tuple will result in an error"
   ]
  },
  {
   "cell_type": "markdown",
   "id": "920e53a3",
   "metadata": {},
   "source": [
    "# End of Assignment"
   ]
  }
 ],
 "metadata": {
  "kernelspec": {
   "display_name": "Python 3 (ipykernel)",
   "language": "python",
   "name": "python3"
  },
  "language_info": {
   "codemirror_mode": {
    "name": "ipython",
    "version": 3
   },
   "file_extension": ".py",
   "mimetype": "text/x-python",
   "name": "python",
   "nbconvert_exporter": "python",
   "pygments_lexer": "ipython3",
   "version": "3.10.9"
  }
 },
 "nbformat": 4,
 "nbformat_minor": 5
}
