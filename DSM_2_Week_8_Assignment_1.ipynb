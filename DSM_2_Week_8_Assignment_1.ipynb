{
 "cells": [
  {
   "cell_type": "markdown",
   "metadata": {
    "id": "MyYbrUxBHfel"
   },
   "source": [
    "# **Week 8 -- Assignment 1 -- Topic: NumPy Basic**"
   ]
  },
  {
   "cell_type": "markdown",
   "metadata": {
    "id": "D5Hc3YuTHuJM"
   },
   "source": [
    "\n",
    "\n",
    "---\n",
    "\n"
   ]
  },
  {
   "cell_type": "markdown",
   "metadata": {
    "id": "Ir5dEurUHxx9"
   },
   "source": [
    "**Consider the below code to answer further questions:**\n",
    "\n",
    "import numpy as np\n",
    "\n",
    "list_ = [ ‘1’ , ’2’ , ‘3’ , ‘4’ , ‘5’ ]\n",
    "\n",
    "array_list = np.array(object = list_)\n",
    "\n",
    "**Q1.** Is there any difference in the data type of variables **list_** and **array_list**? If there is then write a code to print the data types of both the variables.\n",
    "\n",
    "**Q2.** Write a code to print the data type of each and every element of both the variables **list_** and **array_list**.\n",
    "\n",
    "**Q3.** Considering the following changes in the variable **array_list**:\n",
    "\n",
    "array_list = np.array(object = list_, dtype = int)\n",
    "\n",
    "Will there be any difference in the data type of the elements present in both the variables **list_** and **array_list**? If so then print the data types of each and every element present in both the variables **list_** and **array_list**."
   ]
  },
  {
   "cell_type": "markdown",
   "metadata": {},
   "source": [
    "**Answer1.**"
   ]
  },
  {
   "cell_type": "code",
   "execution_count": 49,
   "metadata": {},
   "outputs": [],
   "source": [
    "import numpy as np"
   ]
  },
  {
   "cell_type": "code",
   "execution_count": 50,
   "metadata": {},
   "outputs": [],
   "source": [
    "list_ = ['1','2','3','4','5']\n",
    "\n",
    "array_list = np.array(object = list_)"
   ]
  },
  {
   "cell_type": "code",
   "execution_count": 51,
   "metadata": {},
   "outputs": [
    {
     "data": {
      "text/plain": [
       "list"
      ]
     },
     "execution_count": 51,
     "metadata": {},
     "output_type": "execute_result"
    }
   ],
   "source": [
    "type(list_)"
   ]
  },
  {
   "cell_type": "code",
   "execution_count": 52,
   "metadata": {},
   "outputs": [
    {
     "data": {
      "text/plain": [
       "numpy.ndarray"
      ]
     },
     "execution_count": 52,
     "metadata": {},
     "output_type": "execute_result"
    }
   ],
   "source": [
    "type(array_list)"
   ]
  },
  {
   "cell_type": "markdown",
   "metadata": {},
   "source": [
    "- As observed in the two cells above:\n",
    "    - the data type of the variable **list_** is `'list'` and \n",
    "    - The data type of the variable **array_list** is `'numpy.ndarray'`.\n",
    "- The term \"ndarray\" stands for \"n-dimensional array\".\n",
    "- Below is a **Code** which checks if there is any difference in data type of both the variables and prints the data types:"
   ]
  },
  {
   "cell_type": "code",
   "execution_count": 53,
   "metadata": {},
   "outputs": [
    {
     "name": "stdout",
     "output_type": "stream",
     "text": [
      "Difference in data type\n",
      "Data type of list_:  <class 'list'>\n",
      "Data type of array_list:  <class 'numpy.ndarray'>\n"
     ]
    }
   ],
   "source": [
    "if type(list_) == type(array_list):\n",
    "    print(\"No difference in data type\")\n",
    "else:\n",
    "    print(\"Difference in data type\")\n",
    "    print(\"Data type of list_: \", type(list_))\n",
    "    print(\"Data type of array_list: \", type(array_list))"
   ]
  },
  {
   "cell_type": "markdown",
   "metadata": {},
   "source": [
    "**Answer2.**\n",
    "\n",
    "- The elements within the variable **list_** are enclosed in single quotes (') which signifies that these are string literals.\n",
    "\n",
    "- So, we can say that the data type of every element in the variable **list_** is string, reprsented as `'str'`.\n",
    "\n",
    "- As the variable **array_list** (which is a NumPy array) was created using the list with the statement **array_list = np.array(object=list_)**, it retains the string data type for each element.\n",
    "\n",
    "- So, we can say that the data type of every element in the variable **array_list** is also string. However, NumPy represents strings as `'numpy.str_'`.\n",
    "\n",
    "- Below is a **Code** to print the data type of every element of the variables **list_** and **array_list**:"
   ]
  },
  {
   "cell_type": "code",
   "execution_count": 54,
   "metadata": {},
   "outputs": [
    {
     "name": "stdout",
     "output_type": "stream",
     "text": [
      "list_ =  ['1', '2', '3', '4', '5']\n",
      "Data type of elements in list_:\n",
      "1 has data type: <class 'str'>\n",
      "2 has data type: <class 'str'>\n",
      "3 has data type: <class 'str'>\n",
      "4 has data type: <class 'str'>\n",
      "5 has data type: <class 'str'>\n",
      "\n",
      "\n",
      "array_list = ['1' '2' '3' '4' '5']\n",
      "Data type of elements in array_list:\n",
      "1 has data type: <class 'numpy.str_'>\n",
      "2 has data type: <class 'numpy.str_'>\n",
      "3 has data type: <class 'numpy.str_'>\n",
      "4 has data type: <class 'numpy.str_'>\n",
      "5 has data type: <class 'numpy.str_'>\n"
     ]
    }
   ],
   "source": [
    "print(\"list_ = \",list_)\n",
    "print(\"Data type of elements in list_:\")\n",
    "for element in list_:\n",
    "    print(element,\"has data type:\",type(element))\n",
    "\n",
    "print(\"\\n\")\n",
    "\n",
    "print(\"array_list =\",array_list)\n",
    "print(\"Data type of elements in array_list:\")\n",
    "for element in array_list:\n",
    "    print(element,\"has data type:\",type(element))"
   ]
  },
  {
   "cell_type": "markdown",
   "metadata": {},
   "source": [
    "- Note that all elements in a NumPy array must have the same data type, unlike Python lists where elements can have different data types. This homogeneity allows for efficient and vectorized operations on the array."
   ]
  },
  {
   "cell_type": "code",
   "execution_count": 55,
   "metadata": {},
   "outputs": [
    {
     "data": {
      "text/plain": [
       "array(['1', '2', '3', '4', '5'], dtype='<U1')"
      ]
     },
     "execution_count": 55,
     "metadata": {},
     "output_type": "execute_result"
    }
   ],
   "source": [
    "array_list"
   ]
  },
  {
   "cell_type": "markdown",
   "metadata": {},
   "source": [
    "- The `dtype` attribute in NumPy refers to the data type of the elements present in a NumPy array. It provides information about the type of values stored in the array. We can use the `dtype` attribute to check the data type of a NumPy array."
   ]
  },
  {
   "cell_type": "code",
   "execution_count": 56,
   "metadata": {},
   "outputs": [
    {
     "data": {
      "text/plain": [
       "dtype('<U1')"
      ]
     },
     "execution_count": 56,
     "metadata": {},
     "output_type": "execute_result"
    }
   ],
   "source": [
    "array_list.dtype"
   ]
  },
  {
   "cell_type": "markdown",
   "metadata": {},
   "source": [
    "- This output `dtype('<U1')` means that the elements in **array_list** are Unicode strings, and each string has a length of 1 character."
   ]
  },
  {
   "cell_type": "markdown",
   "metadata": {},
   "source": [
    "**Answer3.**"
   ]
  },
  {
   "cell_type": "code",
   "execution_count": 57,
   "metadata": {},
   "outputs": [
    {
     "name": "stdout",
     "output_type": "stream",
     "text": [
      "list_ =  ['1', '2', '3', '4', '5']\n",
      "Data type of elements in list_ before change:\n",
      "1 has data type: <class 'str'>\n",
      "2 has data type: <class 'str'>\n",
      "3 has data type: <class 'str'>\n",
      "4 has data type: <class 'str'>\n",
      "5 has data type: <class 'str'>\n",
      "\n",
      "\n",
      "array_list = ['1' '2' '3' '4' '5']\n",
      "Data type of elements in array_list before change:\n",
      "1 has data type: <class 'numpy.str_'>\n",
      "2 has data type: <class 'numpy.str_'>\n",
      "3 has data type: <class 'numpy.str_'>\n",
      "4 has data type: <class 'numpy.str_'>\n",
      "5 has data type: <class 'numpy.str_'>\n",
      "\n",
      "\n"
     ]
    }
   ],
   "source": [
    "# Print data type of elements before the change\n",
    "print(\"list_ = \",list_)\n",
    "print(\"Data type of elements in list_ before change:\")\n",
    "for element in list_:\n",
    "    print(element,\"has data type:\",type(element))\n",
    "    \n",
    "print(\"\\n\")\n",
    "print(\"array_list =\",array_list)\n",
    "print(\"Data type of elements in array_list before change:\")\n",
    "for element in array_list:\n",
    "    print(element,\"has data type:\",type(element))\n",
    "print(\"\\n\")"
   ]
  },
  {
   "cell_type": "code",
   "execution_count": 58,
   "metadata": {},
   "outputs": [
    {
     "name": "stdout",
     "output_type": "stream",
     "text": [
      "list_ =  ['1', '2', '3', '4', '5']\n",
      "Data type of elements in list_ before change:\n",
      "1 has data type: <class 'str'>\n",
      "2 has data type: <class 'str'>\n",
      "3 has data type: <class 'str'>\n",
      "4 has data type: <class 'str'>\n",
      "5 has data type: <class 'str'>\n",
      "\n",
      "\n",
      "array_list = [1 2 3 4 5]\n",
      "Data type of elements in array_list before change:\n",
      "1 has data type: <class 'numpy.int32'>\n",
      "2 has data type: <class 'numpy.int32'>\n",
      "3 has data type: <class 'numpy.int32'>\n",
      "4 has data type: <class 'numpy.int32'>\n",
      "5 has data type: <class 'numpy.int32'>\n"
     ]
    }
   ],
   "source": [
    "# Changes in the data type of array_list\n",
    "array_list = np.array(object=list_, dtype=int)\n",
    "\n",
    "# Print data type of elements after the change\n",
    "print(\"list_ = \",list_)\n",
    "print(\"Data type of elements in list_ before change:\")\n",
    "for element in list_:\n",
    "    print(element,\"has data type:\",type(element))\n",
    "print(\"\\n\")\n",
    "\n",
    "print(\"array_list =\",array_list)\n",
    "print(\"Data type of elements in array_list before change:\")\n",
    "for element in array_list:\n",
    "    print(element,\"has data type:\",type(element))"
   ]
  },
  {
   "cell_type": "markdown",
   "metadata": {},
   "source": [
    "- Initially the data type of every element in **list_** is string (`'str'`) and so **array_list** created using the list contained elements that have string data type, represented as `'numpy.str_'`. \n",
    "- However, after the change made using this line **array_list = np.array(object=list_, dtype=int)**, the data type of every element in **array_list** is of integer data type, represented as `'numpy.int32'`, while the data type of every element in **list_** is still the same as before, which is string data type."
   ]
  },
  {
   "cell_type": "markdown",
   "metadata": {},
   "source": [
    "---"
   ]
  },
  {
   "cell_type": "markdown",
   "metadata": {},
   "source": [
    "**Consider the below code to answer further questions:**\n",
    "\n",
    "import numpy as np\n",
    "\n",
    "num_list = [ [ 1 , 2 , 3 ] , [ 4 , 5 , 6 ] ]\n",
    "\n",
    "num_array = np.array(object = num_list)\n",
    "\n",
    "**Q4.** Write a code to find the following characteristics of variable, **num_array**:\n",
    "(i)\t shape\n",
    "(ii) size"
   ]
  },
  {
   "cell_type": "markdown",
   "metadata": {},
   "source": [
    "**Answer4.**"
   ]
  },
  {
   "cell_type": "code",
   "execution_count": 59,
   "metadata": {},
   "outputs": [],
   "source": [
    "import numpy as np"
   ]
  },
  {
   "cell_type": "code",
   "execution_count": 60,
   "metadata": {},
   "outputs": [],
   "source": [
    "num_list = [[1,2,3],[4,5,6]]\n",
    "\n",
    "num_array = np.array(object = num_list)"
   ]
  },
  {
   "cell_type": "code",
   "execution_count": 61,
   "metadata": {},
   "outputs": [
    {
     "data": {
      "text/plain": [
       "(2, 3)"
      ]
     },
     "execution_count": 61,
     "metadata": {},
     "output_type": "execute_result"
    }
   ],
   "source": [
    "num_array.shape"
   ]
  },
  {
   "cell_type": "code",
   "execution_count": 62,
   "metadata": {},
   "outputs": [
    {
     "data": {
      "text/plain": [
       "6"
      ]
     },
     "execution_count": 62,
     "metadata": {},
     "output_type": "execute_result"
    }
   ],
   "source": [
    "num_array.size"
   ]
  },
  {
   "cell_type": "markdown",
   "metadata": {},
   "source": [
    "- In NumPy, the **shape** and **size** attributes provide information about the structure and size of a NumPy array.\n",
    "- The **shape** attribute returns a tuple representing the dimensions of the array. For a 1-dimensional array, the shape is a tuple with a single element (the length of the array). For a 2-dimensional array, the shape is a tuple of two elements representing the number of rows and columns. In general, for an n-dimensional array, the shape is a tuple of n elements.\n",
    "- The **size** attribute returns the total number of elements in the array. It is the product of the elements of the shape tuple. It represents the overall size or length of the array."
   ]
  },
  {
   "cell_type": "markdown",
   "metadata": {},
   "source": [
    "---"
   ]
  },
  {
   "cell_type": "markdown",
   "metadata": {},
   "source": [
    "**Q5.** Write a code to create numpy array of 3*3 matrix containing zeros only, using a numpy array creation function. <br>\n",
    "[**Hint**: The size of the array will be 9 and the shape will be (3,3).]"
   ]
  },
  {
   "cell_type": "markdown",
   "metadata": {},
   "source": [
    "**Answer5.**"
   ]
  },
  {
   "cell_type": "code",
   "execution_count": 63,
   "metadata": {},
   "outputs": [],
   "source": [
    "zeros_matrix = np.zeros((3, 3))"
   ]
  },
  {
   "cell_type": "code",
   "execution_count": 64,
   "metadata": {},
   "outputs": [
    {
     "data": {
      "text/plain": [
       "array([[0., 0., 0.],\n",
       "       [0., 0., 0.],\n",
       "       [0., 0., 0.]])"
      ]
     },
     "execution_count": 64,
     "metadata": {},
     "output_type": "execute_result"
    }
   ],
   "source": [
    "zeros_matrix"
   ]
  },
  {
   "cell_type": "markdown",
   "metadata": {},
   "source": [
    "- The `np.zeros()` function in NumPy is used to create an array filled with zeros. Here are a few key points about the `np.zeros()` function:\n",
    "\n",
    "    **1.Syntax:** numpy.zeros(shape, dtype=float, order='C')\n",
    "\n",
    "    **2.Parameters:**\n",
    "    - **shape:** The shape of the array. It can be an integer or a tuple of integers specifying the dimensions of the array.\n",
    "    - **dtype** (optional): Data type of the array. The default is **float**. It can be specified as an argument, e.g., np.zeros((3, 3), dtype=int).\n",
    "    - **order** (optional): Specifies the memory layout of the array ('C' for row-major, 'F' for column-major). The default is 'C'.\n",
    "\n",
    "    **3.Returns:** An array of zeros with the specified shape and data type.\n",
    "\n",
    "    **4.Use Cases:** The np.zeros() function is part of a family of functions in NumPy (such as `np.ones()`, `np.empty()`, etc.) that allow you to create arrays with specific values, which is particularly useful in numerical computations and data manipulation. Some use cases:\n",
    "    - Initializing an array before filling it with actual data.\n",
    "    - Creating arrays for representing images, matrices, or tensors where initial values should be set to zero.\n",
    "    - Useful for preallocating memory for arrays when the actual values are calculated later."
   ]
  },
  {
   "cell_type": "markdown",
   "metadata": {},
   "source": [
    "---"
   ]
  },
  {
   "cell_type": "markdown",
   "metadata": {},
   "source": [
    "**Q6.** Create an identity matrix of shape (5,5) using numpy functions? <br>\n",
    "[**Hint**: An identity matrix is a matrix containing 1 diagonally and other elements will be 0.]"
   ]
  },
  {
   "cell_type": "markdown",
   "metadata": {},
   "source": [
    "**Answer6.**"
   ]
  },
  {
   "cell_type": "code",
   "execution_count": 65,
   "metadata": {},
   "outputs": [],
   "source": [
    "identity_matrix = np.eye(5)"
   ]
  },
  {
   "cell_type": "code",
   "execution_count": 66,
   "metadata": {},
   "outputs": [
    {
     "data": {
      "text/plain": [
       "array([[1., 0., 0., 0., 0.],\n",
       "       [0., 1., 0., 0., 0.],\n",
       "       [0., 0., 1., 0., 0.],\n",
       "       [0., 0., 0., 1., 0.],\n",
       "       [0., 0., 0., 0., 1.]])"
      ]
     },
     "execution_count": 66,
     "metadata": {},
     "output_type": "execute_result"
    }
   ],
   "source": [
    "identity_matrix"
   ]
  },
  {
   "cell_type": "markdown",
   "metadata": {},
   "source": [
    "- The `np.eye()` function in NumPy is used to create a 2D identity matrix with ones on the diagonal and zeros elsewhere. Here are a few key points about the `np.eye()` function:\n",
    "\n",
    "    **1.Syntax**: numpy.eye(N, M=None, k=0, dtype=<class 'float'>, order='C')\n",
    "    \n",
    "    **2.Paramters**:\n",
    "    - **N:** Number of rows in the output matrix.\n",
    "    - **M** (optional): Number of columns in the output matrix. If not specified, defaults to N.\n",
    "    - **k** (optional): Index of the diagonal. The default is 0, indicating the main diagonal. A positive value selects an upper diagonal, and a negative value selects a lower diagonal. In other words, the k parameter allows you to specify a diagonal other than the main diagonal. A positive value shifts the diagonal upwards, and a negative value shifts it downwards.\n",
    "    - **dtype** (optional): Data type of the array. The default is **float**.\n",
    "    - **order** (optional): Specifies the memory layout of the array ('C' for row-major, 'F' for column-major). The default is 'C'.\n",
    "    \n",
    "    **3.Returns**: An identity matrix with shape **(N, M)**.\n",
    "\n",
    "    **4.Use Cases**: The `np.eye()` function is part of the NumPy library and is particularly useful in scenarios where identity matrices are needed, such as in linear algebra, matrix operations, and various mathematical computations. Some use cases:\n",
    "    - Creating identity matrices as placeholders for mathematical operations or as initializers for certain algorithms.\n",
    "    - Diagonalizing matrices in linear algebra computations."
   ]
  },
  {
   "cell_type": "markdown",
   "metadata": {},
   "source": [
    "---"
   ]
  },
  {
   "cell_type": "markdown",
   "metadata": {},
   "source": [
    "# End of Assignment"
   ]
  }
 ],
 "metadata": {
  "colab": {
   "provenance": []
  },
  "kernelspec": {
   "display_name": "Python 3 (ipykernel)",
   "language": "python",
   "name": "python3"
  },
  "language_info": {
   "codemirror_mode": {
    "name": "ipython",
    "version": 3
   },
   "file_extension": ".py",
   "mimetype": "text/x-python",
   "name": "python",
   "nbconvert_exporter": "python",
   "pygments_lexer": "ipython3",
   "version": "3.10.9"
  }
 },
 "nbformat": 4,
 "nbformat_minor": 1
}
