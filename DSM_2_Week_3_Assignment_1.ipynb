{
 "cells": [
  {
   "cell_type": "markdown",
   "id": "0b03af76",
   "metadata": {},
   "source": [
    "# **Week 3 -- Assignment 1 -- Topic: Functions-1**"
   ]
  },
  {
   "cell_type": "markdown",
   "id": "bdc04131",
   "metadata": {},
   "source": [
    "---"
   ]
  },
  {
   "cell_type": "markdown",
   "id": "c23be510",
   "metadata": {},
   "source": [
    "**Q1.** Which keyword is used to create a **function**? Create a function to return a list of odd numbers in the range of 1 to 25."
   ]
  },
  {
   "cell_type": "markdown",
   "id": "cd3a3fb1",
   "metadata": {},
   "source": [
    "**Ans1.**\n",
    "\n",
    "In Python, the keyword used to create a function is **def**. The syntax for creating a function using the **def** keyword is as follows:\n",
    "\n",
    "    def function_name(parameters):\n",
    "        # Function body\n",
    "        # Code inside the function\n",
    "        # ...\n",
    "\n",
    "        # Optionally, we can use the 'return' statement to return a value\n",
    "    return result\n",
    "\n",
    "- Here's a breakdown of the syntax:\n",
    "\n",
    "    - **def** ~ This keyword is used to define a function.\n",
    "    - **function_name** ~ This is the name we give to our function. We can choose a descriptive name that reflects the purpose of the function.\n",
    "    - **(parameters)** ~ We can pass parameters (inputs) to our function. Parameters are optional, and if there are none, we still need to include empty parentheses ().\n",
    "    - **:** ~ The colon indicates the start of the function body.\n",
    "    - **Function body** ~ This is where we write the code that the function will execute. It is indented to indicate that it is part of the function.\n",
    "    - **return result** ~ If our function produces a result that we want to use elsewhere in our code, we can use the return statement followed by the value we want to return.\n",
    "    \n",
    "- Here's a simple example of a function that returns a list of odd numbers in the range of 1 to 25:"
   ]
  },
  {
   "cell_type": "code",
   "execution_count": 8,
   "id": "a0124afe",
   "metadata": {},
   "outputs": [
    {
     "name": "stdout",
     "output_type": "stream",
     "text": [
      "[1, 3, 5, 7, 9, 11, 13, 15, 17, 19, 21, 23, 25]\n"
     ]
    }
   ],
   "source": [
    "# Defining the function\n",
    "def get_odd_numbers_1_to_25():\n",
    "    odd_numbers = []\n",
    "    for num in range(1,26):\n",
    "        if (num%2 != 0):\n",
    "            odd_numbers.append(num)\n",
    "    return odd_numbers\n",
    "\n",
    "# Calling the function\n",
    "result = get_odd_numbers_1_to_25()\n",
    "print(result)"
   ]
  },
  {
   "cell_type": "markdown",
   "id": "e2841281",
   "metadata": {},
   "source": [
    "- In this function, we first create an empty list (odd_numbers) and then use a `for` loop. The loop iterates through the range of numbers from 1 to 25, and for each number, it checks if it's odd (num%2 != 0). If the condition is **True**, the number is appended to the odd_numbers list. Finally, the function returns the list of odd_numbers.\n",
    "\n",
    "- The above function can also be modified such that the function uses a list comprehension instead of a regular `for` loop. Here's the modified and concise version:"
   ]
  },
  {
   "cell_type": "code",
   "execution_count": 9,
   "id": "ea78ea7c",
   "metadata": {},
   "outputs": [
    {
     "data": {
      "text/plain": [
       "[1, 3, 5, 7, 9, 11, 13, 15, 17, 19, 21, 23, 25]"
      ]
     },
     "execution_count": 9,
     "metadata": {},
     "output_type": "execute_result"
    }
   ],
   "source": [
    "# Defining the function\n",
    "def get_odd_numbers_1_to_25():\n",
    "    odd_numbers = [num for num in range(1,26) if (num%2 != 0)]\n",
    "    return odd_numbers\n",
    "\n",
    "# Calling the function\n",
    "get_odd_numbers_1_to_25()"
   ]
  },
  {
   "cell_type": "markdown",
   "id": "94c1b888",
   "metadata": {},
   "source": [
    "---"
   ]
  },
  {
   "cell_type": "markdown",
   "id": "7703132c",
   "metadata": {},
   "source": [
    "**Q2.** Why `*args` and `**kwargs` are used in some functions? Create a function each for `*args` and `**kwargs` to demonstrate their use."
   ]
  },
  {
   "cell_type": "markdown",
   "id": "027bcb27",
   "metadata": {},
   "source": [
    "**Ans2.**\n",
    "\n",
    "In Python, `*args` and `**kwargs` are used to allow functions to accept a variable number of arguments.\n",
    "\n",
    "- `*args` is used to pass an arbitrary number of positional arguments to a function. It collects these arguments into a tuple. This is known as Argument Tuple Packing.\n",
    "\n",
    "- `**kwargs` is used to pass an arbitrary number of keyword arguments to a function. It collects these arguments into a dictionary. This is known as Argument Dictionary Packing.\n",
    "\n",
    "We can use anything, instead of args and kwargs, after the asterisk and double asterisk (e.g, `*anything` and `**yourname`), but the convention is to use `*args` and `**kwargs`.\n",
    "\n",
    "Here's an example demonstrating the use of `*args`:"
   ]
  },
  {
   "cell_type": "code",
   "execution_count": 15,
   "id": "45c397ac",
   "metadata": {},
   "outputs": [
    {
     "name": "stdout",
     "output_type": "stream",
     "text": [
      "3.0\n",
      "7.0\n"
     ]
    }
   ],
   "source": [
    "# Example to demonstrate the use of *args\n",
    "\n",
    "def average(*args):\n",
    "    result = 0\n",
    "    for num in args:\n",
    "        result += num\n",
    "    return result/len(args)\n",
    "\n",
    "# Example usage\n",
    "x = average(1, 2, 3, 4, 5)\n",
    "print(x)\n",
    "\n",
    "# Another example usage\n",
    "m = average(6, 10, 5)\n",
    "print(m)"
   ]
  },
  {
   "cell_type": "markdown",
   "id": "16f97a48",
   "metadata": {},
   "source": [
    "In the above example, the **average** function takes any number of arguments and calculates their average.\n",
    "\n",
    "And here's an example demonstrating the use of `**kwargs`:"
   ]
  },
  {
   "cell_type": "code",
   "execution_count": 17,
   "id": "38301285",
   "metadata": {},
   "outputs": [
    {
     "name": "stdout",
     "output_type": "stream",
     "text": [
      "name:John\n",
      "age:25\n",
      "city:New York\n",
      "a:1\n",
      "b:2\n",
      "c:3\n",
      "d:0\n",
      "e:10\n"
     ]
    }
   ],
   "source": [
    "# Example to demonstrate the use of **kwargs\n",
    "\n",
    "def display_info(**kwargs):\n",
    "    for key, value in kwargs.items():\n",
    "        print(f\"{key}:{value}\")\n",
    "\n",
    "# Example usage\n",
    "display_info(name=\"John\", age=25, city=\"New York\")\n",
    "\n",
    "# Another Example Usage\n",
    "display_info(a=1, b=2, c=3, d=0, e=10)"
   ]
  },
  {
   "cell_type": "markdown",
   "id": "9f2bb955",
   "metadata": {},
   "source": [
    "In the above example, the **display_info** function takes any number of keyword arguments and prints them.\n",
    "\n",
    "- Combining `*args` and `**kwargs`: We can also use both `*args` and `**kwargs` in the same function definition to allow a function to accept any combination of positional and keyword arguments.\n",
    "\n",
    "The order of the arguments in a function signature follows this convention:\n",
    "\n",
    "1. Required positional arguments (arg1 in the example below)\n",
    "\n",
    "2. Variable positional arguments (`*args` in the example below)\n",
    "\n",
    "3. Keyword arguments with default values (kwarg1 in the example below)\n",
    "\n",
    "4. Variable keyword arguments (`**kwargs` in the example below)\n",
    "\n",
    "Example:"
   ]
  },
  {
   "cell_type": "code",
   "execution_count": 18,
   "id": "7d5a9ecc",
   "metadata": {},
   "outputs": [
    {
     "name": "stdout",
     "output_type": "stream",
     "text": [
      "arg1: 1\n",
      "*args: (2, 3)\n",
      "kwarg1: custom_value\n",
      "**kwargs: {'option1': 'value1', 'option2': 'value2'}\n"
     ]
    }
   ],
   "source": [
    "def example_function(arg1, *args, kwarg1=\"default_value\", **kwargs):\n",
    "    print(\"arg1:\", arg1)\n",
    "    print(\"*args:\", args)\n",
    "    print(\"kwarg1:\", kwarg1)\n",
    "    print(\"**kwargs:\", kwargs)\n",
    "\n",
    "example_function(1, 2, 3, kwarg1=\"custom_value\", option1=\"value1\", option2=\"value2\")"
   ]
  },
  {
   "cell_type": "markdown",
   "id": "9bb78c7c",
   "metadata": {},
   "source": [
    "---"
   ]
  },
  {
   "cell_type": "markdown",
   "id": "2932e97c",
   "metadata": {},
   "source": [
    "**Q3.** What is an **iterator** in python? Name the method used to initialise the iterator object and the method used for iteration. Use these methods to print the first five elements of the given list: `[2, 4, 6, 8, 10, 12, 14, 16, 18, 20]`."
   ]
  },
  {
   "cell_type": "markdown",
   "id": "d30f77b4",
   "metadata": {},
   "source": [
    "**Ans3.**\n",
    "\n",
    "In Python, an **iterator** is an object that represents a stream of data.\n",
    "\n",
    "It implements two methods, `__iter__()` and `__next__()`, and conforms to the iterator protocol.\n",
    "\n",
    "The `__iter__()` method initializes the iterator object, and the `__next__()` method is responsible for iteration, that is for returning the next element in the sequence.\n",
    "\n",
    "The `__iter__()` method is implicitly called when using **iter()**.\n",
    "\n",
    "The `__next__()` method is implicitly called when using **next()**.\n",
    "\n",
    "Here's an example how we can use the given list `[2, 4, 6, 8, 10, 12, 14, 16, 18, 20]` to create an iterator and print the first five elements:"
   ]
  },
  {
   "cell_type": "code",
   "execution_count": 23,
   "id": "45432a44",
   "metadata": {},
   "outputs": [
    {
     "name": "stdout",
     "output_type": "stream",
     "text": [
      "2\n",
      "4\n",
      "6\n",
      "8\n",
      "10\n"
     ]
    }
   ],
   "source": [
    "# Define the list\n",
    "my_list = [2, 4, 6, 8, 10, 12, 14, 16, 18, 20]\n",
    "\n",
    "# Use iter() method to create an iterator object\n",
    "my_iterator = iter(my_list)\n",
    "\n",
    "# Use next() method five times to print the first five elements\n",
    "print(next(my_iterator))\n",
    "print(next(my_iterator))\n",
    "print(next(my_iterator))\n",
    "print(next(my_iterator))\n",
    "print(next(my_iterator))"
   ]
  },
  {
   "cell_type": "code",
   "execution_count": 24,
   "id": "0becb6cb",
   "metadata": {},
   "outputs": [
    {
     "name": "stdout",
     "output_type": "stream",
     "text": [
      "<class 'list_iterator'>\n"
     ]
    }
   ],
   "source": [
    "print(type(my_iterator))"
   ]
  },
  {
   "cell_type": "markdown",
   "id": "320fa456",
   "metadata": {},
   "source": [
    "- It's important to note that if we attempt to go beyond the end of the iterator (in this case, beyond the length of the list), a **StopIteration** exception will be raised. That is to say, suppose we used the **next()** method 10 times and we printed all the 10 items from the list [2, 4, 6, 8, 10, 12, 14, 16, 18, 20]. After that when we use the **next()** method again it will give us a **StopIteration** exception, which indicates no more elements are available.\n",
    "\n",
    "- It's common to use a `for` loop, which automatically handles the iteration and catches the **StopIteration** exception to terminate the loop. Here's the same example as above with the use of a `for` loop:"
   ]
  },
  {
   "cell_type": "code",
   "execution_count": 49,
   "id": "30edb08e",
   "metadata": {},
   "outputs": [
    {
     "name": "stdout",
     "output_type": "stream",
     "text": [
      "2\n",
      "4\n",
      "6\n",
      "8\n",
      "10\n"
     ]
    }
   ],
   "source": [
    "# Define the list\n",
    "my_list = [2, 4, 6, 8, 10, 12, 14, 16, 18, 20]\n",
    "\n",
    "# Use iter() method to create an iterator object\n",
    "my_iterator = iter(my_list)\n",
    "\n",
    "# Use next() method in a loop to print the first five elements\n",
    "for _ in range(5):\n",
    "    print(next(my_iterator))"
   ]
  },
  {
   "cell_type": "markdown",
   "id": "ce25202b",
   "metadata": {},
   "source": [
    "- Explanation of underscore `(_)` variable name used in the `for` loop: In Python, the underscore `(_)` is often used as a throwaway variable name. When used in a loop like `for _ in range(5):`, it typically indicates that the loop variable is not actually used inside the loop body. It's a convention to use the underscore as a variable name when you need to create a variable, but you don't intend to use its value. In the context of the line `for _ in range(5):`, `for _` indicates that you're iterating over the elements produced by `range(5)`, but you don't need to use the actual values inside the loop. Using underscore as the variable name is a way of saying, \"I'm not going to use this loop variable, but I still need to iterate a certain number of times (in this case, 5 times).\"\n",
    "- The same program can also be written using `for i in range(5):`. That version is shown below:"
   ]
  },
  {
   "cell_type": "code",
   "execution_count": 30,
   "id": "f19c96a3",
   "metadata": {},
   "outputs": [
    {
     "name": "stdout",
     "output_type": "stream",
     "text": [
      "2\n",
      "4\n",
      "6\n",
      "8\n",
      "10\n"
     ]
    }
   ],
   "source": [
    "# Define the list\n",
    "my_list = [2, 4, 6, 8, 10, 12, 14, 16, 18, 20]\n",
    "\n",
    "# Use iter() method to create an iterator object\n",
    "my_iterator = iter(my_list)\n",
    "\n",
    "# Use next() method in a loop to print the first five elements\n",
    "for i in range(5):\n",
    "    i = next(my_iterator)\n",
    "    print(i)"
   ]
  },
  {
   "cell_type": "markdown",
   "id": "a846ec30",
   "metadata": {},
   "source": [
    "---"
   ]
  },
  {
   "cell_type": "markdown",
   "id": "98224ad6",
   "metadata": {},
   "source": [
    "**Q4.** What is a **generator function** in python? Why **yield** keyword is used? Give an example of a generator function."
   ]
  },
  {
   "cell_type": "markdown",
   "id": "12ca12bf",
   "metadata": {},
   "source": [
    "**Ans4.**\n",
    "\n",
    "- A **generator function** in Python is a special type of function that allows you to create an iterator in a more concise and memory-efficient way. Instead of returning a single result using the **return** keyword, a generator function uses the **yield** keyword to produce a series of values one at a time. When a generator function is called, it returns an iterator but does not start execution immediately. The function only runs when the **next()** function is called on the iterator, and it produces values on-the-fly using **yield**.\n",
    "\n",
    "- The **yield** keyword is used to temporarily suspend the state of the function and return a value to the caller. The function's state is saved, and the next time **next()** is called, execution resumes from where it was paused, using the saved state."
   ]
  },
  {
   "cell_type": "code",
   "execution_count": 41,
   "id": "2a64a05c",
   "metadata": {},
   "outputs": [],
   "source": [
    "# Here's an example of a generator function:\n",
    "def generate_numbers(n):\n",
    "    for i in range(n):\n",
    "        yield i"
   ]
  },
  {
   "cell_type": "markdown",
   "id": "b2204728",
   "metadata": {},
   "source": [
    "- In the above example, the **generate_numbers** function is a generator function that yields numbers from 0 to n-1."
   ]
  },
  {
   "cell_type": "code",
   "execution_count": 42,
   "id": "5f065d6f",
   "metadata": {},
   "outputs": [
    {
     "data": {
      "text/plain": [
       "<generator object generate_numbers at 0x0000024C61075150>"
      ]
     },
     "execution_count": 42,
     "metadata": {},
     "output_type": "execute_result"
    }
   ],
   "source": [
    "generate_numbers(30)"
   ]
  },
  {
   "cell_type": "markdown",
   "id": "53763495",
   "metadata": {},
   "source": [
    "- When **generate_numbers(30)** is called, it returns an iterator.\n",
    "\n",
    "- When you create a generator function, calling the function itself doesn't execute its code immediately. Instead, it returns an iterator object.\n",
    "\n",
    "- The actual execution of the generator function starts when you call the **next()** function on the iterator. This means that the code inside the generator function is executed up to the first **yield** statement.\n",
    "\n",
    "- The **yield** keyword is used in a generator function to produce a value and pause the function's execution.\n",
    "\n",
    "- When the **yield** statement is encountered, the current state of the function is saved, and the yielded value is returned to the caller.\n",
    "\n",
    "- The next time **next()** is called on the iterator, the function resumes execution from where it was paused, using the saved state.\n",
    "\n",
    "- The generator function can produce more values using subsequent **yield** statements, and each time it yields a value, it pauses until the next call to **next()**.\n",
    "\n",
    "- Here's a step-by-step breakdown using the same example as above:"
   ]
  },
  {
   "cell_type": "code",
   "execution_count": 43,
   "id": "3b615b96",
   "metadata": {},
   "outputs": [
    {
     "name": "stdout",
     "output_type": "stream",
     "text": [
      "0\n",
      "1\n"
     ]
    }
   ],
   "source": [
    "def generate_numbers(n):\n",
    "    for i in range(n):\n",
    "        yield i\n",
    "\n",
    "# Using the generator function\n",
    "my_generator = generate_numbers(5)\n",
    "\n",
    "# Calling next() on the iterator\n",
    "value1 = next(my_generator)  # At this point, the generator function runs up to the first yield and produces the value 0\n",
    "print(value1)\n",
    "\n",
    "# Calling next() again\n",
    "value2 = next(my_generator)  # The generator function resumes from where it was paused, produces the value 1, and pauses again\n",
    "print(value2)\n",
    "\n",
    "# ... and so on"
   ]
  },
  {
   "cell_type": "markdown",
   "id": "11a58515",
   "metadata": {},
   "source": [
    "- Here's how we can use a loop to iterate over the values produced by the generator function:"
   ]
  },
  {
   "cell_type": "code",
   "execution_count": 44,
   "id": "d6f11db1",
   "metadata": {},
   "outputs": [
    {
     "name": "stdout",
     "output_type": "stream",
     "text": [
      "0 1 2 3 4 5 6 7 8 9 10 11 12 13 14 15 16 17 18 19 20 21 22 23 24 25 26 27 28 29 "
     ]
    }
   ],
   "source": [
    "def generate_numbers(n):\n",
    "    for i in range(n):\n",
    "        yield i\n",
    "\n",
    "# Using the generator function\n",
    "my_generator = generate_numbers(30)\n",
    "\n",
    "# Iterating over the generated values using a loop\n",
    "for num in my_generator:\n",
    "    print(num,end=\" \")"
   ]
  },
  {
   "cell_type": "markdown",
   "id": "c39e5841",
   "metadata": {},
   "source": [
    "- The process of pausing and resuming allows the generator function to produce values one at a time, making it efficient in terms of memory usage and suitable for scenarios where you don't need to generate all values at once.\n",
    "\n",
    "- Here are few Advantages and Drawbacks:\n",
    "\n",
    "    - Memory Efficiency (Advantage): One of the primary advantages of generator functions is their memory efficiency. They generate values on-the-fly, producing only one value at a time and avoiding the need to store the entire sequence in memory. This is particularly useful when dealing with large datasets or potentially infinite sequences.\n",
    "    - Lazy Evaluation (Advantage): Generator functions use lazy evaluation, meaning they produce values only when requested. This can be advantageous in scenarios where you don't need all the values at once, improving performance and reducing resource consumption.\n",
    "    - Single Iteration (Drawback): Once a generator is exhausted (all values have been yielded), it cannot be iterated over again. If you need to restart the iteration, you must create a new generator instance.\n",
    "    - Limited Random Access (Drawback): Unlike sequences such as lists, generator functions provide limited random access. You can only iterate through the values sequentially, and you cannot, for example, access an element at a specific index without iterating through the preceding elements.\n",
    "\n",
    "- In summary, generator functions are a powerful feature in Python, especially when dealing with large datasets or sequences, but their suitability depends on the specific requirements of the task at hand. They are particularly advantageous when memory efficiency and lazy evaluation are crucial."
   ]
  },
  {
   "cell_type": "markdown",
   "id": "433d1a2d",
   "metadata": {},
   "source": [
    "---"
   ]
  },
  {
   "cell_type": "markdown",
   "id": "018f3625",
   "metadata": {},
   "source": [
    "**Q5.** Create a **generator function** for prime numbers less than 1000. Use the `next()` method to print the first 20 prime numbers."
   ]
  },
  {
   "cell_type": "markdown",
   "id": "0ba3fb65",
   "metadata": {},
   "source": [
    "**Ans5.**"
   ]
  },
  {
   "cell_type": "code",
   "execution_count": 51,
   "id": "7215b1c2",
   "metadata": {},
   "outputs": [
    {
     "name": "stdout",
     "output_type": "stream",
     "text": [
      "2 3 5 7 11 13 17 19 23 29 31 37 41 43 47 53 59 61 67 71 "
     ]
    }
   ],
   "source": [
    "# Importing math module to be able to use math.sqrt() function\n",
    "import math\n",
    "\n",
    "# Setting the maximum number upto which primes are to be generated\n",
    "max_num = 1000\n",
    "\n",
    "# Defining a function to check if a number is prime or not\n",
    "def is_prime(num):\n",
    "    if num <= 1:\n",
    "        return False\n",
    "    if num == 2:\n",
    "        return True\n",
    "    # Iterate from 2 up to the square root of num\n",
    "    for i in range(2, int(math.sqrt(num)) + 1):\n",
    "        if num % i == 0:\n",
    "            return False\n",
    "    return True\n",
    "\n",
    "# Generator function\n",
    "def generate_primes(max_num):\n",
    "    for i in range(2, max_num):\n",
    "        if is_prime(i):\n",
    "            yield i\n",
    "\n",
    "# Using the generator function to print the first 20 prime numbers\n",
    "prime_generator = generate_primes(max_num)\n",
    "\n",
    "for _ in range(20):\n",
    "    print(next(prime_generator),end=\" \")"
   ]
  },
  {
   "cell_type": "markdown",
   "id": "df798e13",
   "metadata": {},
   "source": [
    "---"
   ]
  },
  {
   "cell_type": "markdown",
   "id": "ae656ae1",
   "metadata": {},
   "source": [
    "# End of Assignment"
   ]
  }
 ],
 "metadata": {
  "kernelspec": {
   "display_name": "Python 3 (ipykernel)",
   "language": "python",
   "name": "python3"
  },
  "language_info": {
   "codemirror_mode": {
    "name": "ipython",
    "version": 3
   },
   "file_extension": ".py",
   "mimetype": "text/x-python",
   "name": "python",
   "nbconvert_exporter": "python",
   "pygments_lexer": "ipython3",
   "version": "3.10.9"
  }
 },
 "nbformat": 4,
 "nbformat_minor": 5
}
