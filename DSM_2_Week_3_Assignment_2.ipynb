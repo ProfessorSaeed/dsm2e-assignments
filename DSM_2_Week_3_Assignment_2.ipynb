{
 "cells": [
  {
   "cell_type": "markdown",
   "id": "775a8f3f",
   "metadata": {},
   "source": [
    "# Week 3 -- Assignment 2 -- Topic: Functions-2"
   ]
  },
  {
   "cell_type": "markdown",
   "id": "3f751473",
   "metadata": {},
   "source": [
    "**Q1.** Create a python program to sort the given list of tuples based on integer value using a **lambda** function: <br> \n",
    "\n",
    "`[('Sachin Tendulkar', 34357), ('Ricky Ponting', 27483), ('Jack Kallis', 25534), ('Virat Kohli', 24936)]`"
   ]
  },
  {
   "cell_type": "markdown",
   "id": "fe1e2164",
   "metadata": {},
   "source": [
    "**Ans1.**"
   ]
  },
  {
   "cell_type": "markdown",
   "id": "3565e505",
   "metadata": {},
   "source": [
    "- The **sorted()** function in Python is used to sort an iterable (such as a list) or any other iterable object in a defined order.\n",
    "\n",
    "- **sorted()** function:\n",
    "\n",
    "     **Syntax: sorted(iterable, key=None, reverse=False)**\n",
    "    \n",
    "    - **iterable**: The iterable (e.g., list, tuple, string) that you want to sort.\n",
    "\n",
    "    - **key** (optional): A function that takes an element of the iterable as input and returns a value to use for sorting purposes. The default is **None**, meaning the elements are compared directly.\n",
    "\n",
    "    - **reverse** (optional): If set to **True**, the iterable will be sorted in descending order. The default is **False**, indicating ascending order.\n",
    "\n",
    "- We'll use the **sorted()** function with a **lambda function** as the **key argument** to sort the list based on the second element (integer value) in each tuple. "
   ]
  },
  {
   "cell_type": "code",
   "execution_count": 21,
   "id": "9acd24e8",
   "metadata": {},
   "outputs": [
    {
     "name": "stdout",
     "output_type": "stream",
     "text": [
      "[('Virat Kohli', 24936), ('Jack Kallis', 25534), ('Ricky Ponting', 27483), ('Sachin Tendulkar', 34357)]\n"
     ]
    }
   ],
   "source": [
    "# Input list of tuples\n",
    "players = [('Sachin Tendulkar', 34357), ('Ricky Ponting', 27483), ('Jack Kallis', 25534), ('Virat Kohli', 24936)]\n",
    "\n",
    "# Sorting the list based on the second element (integer value) in each tuple\n",
    "sorted_players = sorted(players, key=lambda x: x[1])\n",
    "\n",
    "# Displaying the sorted list\n",
    "print(sorted_players)"
   ]
  },
  {
   "cell_type": "markdown",
   "id": "8b6ae0a3",
   "metadata": {},
   "source": [
    "---"
   ]
  },
  {
   "cell_type": "markdown",
   "id": "fe79be0d",
   "metadata": {},
   "source": [
    "- Before moving to the next questions, let's understand the **lambda** function, as it has been used in this question and will be used in all the next questions.\n",
    "\n",
    "- The syntax of a **lambda** function in Python is as follows:\n",
    "\n",
    "    **lambda arguments: expression**\n",
    "\n",
    "    - **lambda** keyword is used to define an anonymous function.\n",
    "    - **arguments** are the input parameters or variables that the lambda function takes. It can have multiple arguments separated by commas.\n",
    "    - **:** (colon) separates the arguments from the expression.\n",
    "    - **expression** is a single expression that the lambda function evaluates and returns."
   ]
  },
  {
   "cell_type": "markdown",
   "id": "3fa00251",
   "metadata": {},
   "source": [
    "- Also, let us understand the **map()**, **filter()**, and **reduce()** functions as they will be used in the forthcoming questions.\n",
    "\n",
    "- Map, Filter, and Reduce are paradigms of functional programming. They allow the us to write simpler, shorter code, without neccessarily needing to bother about intricacies like loops and branching.\n",
    "\n",
    "- **map()** and **filter()** come built-in with Python (in the `__builtins__` module) and require no importing. **reduce()**, however, needs to be imported as it resides in the `functools` module. \n",
    "\n",
    "- Let's go through the syntax for the **map()**, **filter()**, and **reduce()** functions in Python."
   ]
  },
  {
   "cell_type": "markdown",
   "id": "b36655a7",
   "metadata": {},
   "source": [
    "1. **map()** function:\n",
    "\n",
    "    **Syntax: map(function, iterable, ...)**\n",
    "    \n",
    "    - **function**: The function to apply to each item in the iterable(s).\n",
    "    \n",
    "    - **iterable**: One or more iterables (e.g., lists, tuples).\n",
    "\n",
    "- How many iterables can be passed in the **map()**: There can be as many iterables as possible, in so far **funcion** has that exact number as required input arguments. In other words, the **function** passed to **map()** must be able to accept as many arguments as there are iterables. For example, if you provide two iterables, the function should have two parameters to receive values from those iterables. If you provide three iterables, the function should have three parameters, and so on.\n",
    "\n",
    "- In Python 3, the **map()** function returns a map object which is a generator object. To get the result as a list, the built-in **list()** function can be called on the map object. i.e. **list(map(function, iterable, ...))**. To get the result as a tuple, the built-in **tuple()** function can be called on the map object."
   ]
  },
  {
   "cell_type": "markdown",
   "id": "793ad110",
   "metadata": {},
   "source": [
    "2. **filter()** function:\n",
    "\n",
    "    **Syntax: filter(function, iterable)**\n",
    "\n",
    "    - **function**: A function that returns **True** or **False** for each element in the iterable.\n",
    "    \n",
    "    - **iterable**: The iterable to be filtered.\n",
    "    \n",
    "- Unlike **map()** function, the **filter()** takes only one iterable.\n",
    "\n",
    "- Like **map()** function returns a map object in Python 3, the **filter()** function returns a filter object which is a generator object, containing only the elements for which the function returns **True**. To get the result as a list, the built-in **list()** function can be called on the filter object. i.e. **list(filter(function, iterable))**. To get the result as a tuple, the built-in tuple() function can be called on the map object."
   ]
  },
  {
   "cell_type": "markdown",
   "id": "39b30ffb",
   "metadata": {},
   "source": [
    "3. **reduce()** function:\n",
    "\n",
    "    **Syntax: reduce(function, iterable[, initializer])**\n",
    "    \n",
    "    - **function**: A binary function (takes two arguments) that is applied cumulatively to the items of the iterable, from left to right.\n",
    "    \n",
    "    - **iterable**: The iterable to be reduced.\n",
    "    \n",
    "    - **initializer**: (Optional) The initial value to start the reduction.\n",
    "\n",
    "- How does the **reduce()** function works: If **initializer** is not supplied, the first element in the iterable is the first argument to the function and the second element in the iterable is the second argument to the function. If **initializer** is supplied, then it becomes the first argument to the function and the first element in the iterable becomes the second argument to the function. For the next step, the value obtained by applying the function to the two arguments becomes the first argument to the function and the next available element in the iterable becomes the second argument to the function. This keeps repeating till the iterable is exhausted, more precisely, till there is no element available in the iterable to become the second argument to the function. At that point the last value obtained is returned. In other words, the **reduce()** function \"reduces\" the iterable into a single value.\n",
    "    \n",
    "- Thus, the **reduce()** function returns a single accumulated value. "
   ]
  },
  {
   "cell_type": "markdown",
   "id": "00426ec7",
   "metadata": {},
   "source": [
    "---"
   ]
  },
  {
   "cell_type": "markdown",
   "id": "b043096d",
   "metadata": {},
   "source": [
    "**Q2.** Write a Python Program to find the squares of all the numbers in the given list of integers using **lambda** and **map** functions: <br>\n",
    "\n",
    "`[1, 2, 3, 4, 5, 6, 7, 8, 9, 10]`"
   ]
  },
  {
   "cell_type": "markdown",
   "id": "54822784",
   "metadata": {},
   "source": [
    "**Ans2.**"
   ]
  },
  {
   "cell_type": "code",
   "execution_count": 35,
   "id": "139540a4",
   "metadata": {},
   "outputs": [
    {
     "name": "stdout",
     "output_type": "stream",
     "text": [
      "<map object at 0x000001C3610E58A0>\n",
      "[1, 4, 9, 16, 25, 36, 49, 64, 81, 100]\n"
     ]
    }
   ],
   "source": [
    "# List of Integers\n",
    "numbers = [1, 2, 3, 4, 5, 6, 7, 8, 9, 10]\n",
    "\n",
    "# Using map() to square each element in the list\n",
    "squares_numbers = map(lambda x: x**2, numbers)\n",
    "\n",
    "print(squares_numbers)       # map() returns a map object\n",
    "print(list(squares_numbers)) # using list() function to get the result as a list "
   ]
  },
  {
   "cell_type": "markdown",
   "id": "cce5c1b5",
   "metadata": {},
   "source": [
    "---"
   ]
  },
  {
   "cell_type": "markdown",
   "id": "f607e4de",
   "metadata": {},
   "source": [
    "**Q3.** Write a python program to convert the given list of integers into a tuple of strings. Use **map** and **lambda** functions: <br>\n",
    "\n",
    "**Given List:** `[1, 2, 3, 4, 5, 6, 7, 8, 9, 10]` <br>\n",
    "**Expected output:** `('1', '2', '3', '4', '5', '6', '7', '8', '9', '10')`"
   ]
  },
  {
   "cell_type": "markdown",
   "id": "dfbbb806",
   "metadata": {},
   "source": [
    "**Ans3.**"
   ]
  },
  {
   "cell_type": "code",
   "execution_count": 37,
   "id": "b7d935b8",
   "metadata": {},
   "outputs": [
    {
     "name": "stdout",
     "output_type": "stream",
     "text": [
      "('1', '2', '3', '4', '5', '6', '7', '8', '9', '10')\n"
     ]
    }
   ],
   "source": [
    "# Given list of integers\n",
    "numbers = [1, 2, 3, 4, 5, 6, 7, 8, 9, 10]\n",
    "\n",
    "# Using map() and lambda to convert each element in the list from an integer to a string\n",
    "# And using tuple() function on the map object to get the result as a tuple \n",
    "strings_tuple = tuple(map(lambda x: str(x), numbers))\n",
    "\n",
    "# Displaying the result\n",
    "print(strings_tuple)"
   ]
  },
  {
   "cell_type": "markdown",
   "id": "543dce84",
   "metadata": {},
   "source": [
    "---"
   ]
  },
  {
   "cell_type": "markdown",
   "id": "8865d399",
   "metadata": {},
   "source": [
    "**Q4.** Write a python program using **reduce** function to compute the product of a list containing numbers from 1 to 25."
   ]
  },
  {
   "cell_type": "markdown",
   "id": "0ddfb997",
   "metadata": {},
   "source": [
    "**Ans4.**"
   ]
  },
  {
   "cell_type": "code",
   "execution_count": 38,
   "id": "e002c04b",
   "metadata": {},
   "outputs": [
    {
     "name": "stdout",
     "output_type": "stream",
     "text": [
      "Product of numbers from 1 to 25: 15511210043330985984000000\n"
     ]
    }
   ],
   "source": [
    "from functools import reduce\n",
    "\n",
    "# Generating a list of numbers from 1 to 25\n",
    "numbers = list(range(1, 26))\n",
    "\n",
    "# Using reduce() to compute the product of the list\n",
    "product = reduce(lambda x, y: x * y, numbers)\n",
    "\n",
    "# Displaying the result\n",
    "print(\"Product of numbers from 1 to 25:\", product)"
   ]
  },
  {
   "cell_type": "markdown",
   "id": "14c6e0ef",
   "metadata": {},
   "source": [
    "---"
   ]
  },
  {
   "cell_type": "markdown",
   "id": "d8572326",
   "metadata": {},
   "source": [
    "**Q5.** Write a python program to filter the numbers in a given list that are divisible by 2 and 3 using the **filter** function: <br>\n",
    "\n",
    "`[2, 3, 6, 9, 27, 60, 90, 120, 55, 46]`"
   ]
  },
  {
   "cell_type": "markdown",
   "id": "1f0058bc",
   "metadata": {},
   "source": [
    "**Ans5.**"
   ]
  },
  {
   "cell_type": "code",
   "execution_count": 39,
   "id": "59b66c91",
   "metadata": {},
   "outputs": [
    {
     "name": "stdout",
     "output_type": "stream",
     "text": [
      "Given list of numbers: [2, 3, 6, 9, 27, 60, 90, 120, 55, 46]\n",
      "Numbers divisible by 2 and 3: [6, 60, 90, 120]\n"
     ]
    }
   ],
   "source": [
    "# Given list of numbers\n",
    "numbers = [2, 3, 6, 9, 27, 60, 90, 120, 55, 46]\n",
    "\n",
    "# Using filter() and lambda to get numbers divisible by both 2 and 3\n",
    "filtered_numbers = filter(lambda x: x%2==0 and x%3==0, numbers)\n",
    "\n",
    "# Displaying the result\n",
    "print(\"Given list of numbers:\", numbers)\n",
    "print(\"Numbers divisible by 2 and 3:\", list(filtered_numbers))"
   ]
  },
  {
   "cell_type": "markdown",
   "id": "32f16469",
   "metadata": {},
   "source": [
    "---"
   ]
  },
  {
   "cell_type": "markdown",
   "id": "64ee88bb",
   "metadata": {},
   "source": [
    "**Q6.** Write a python program to find palindromes in the given list of strings using **lambda** and **filter** function: <br>\n",
    "`['python', 'php', 'aba', 'radar', 'level']`"
   ]
  },
  {
   "cell_type": "markdown",
   "id": "2df78d8f",
   "metadata": {},
   "source": [
    "**Ans6.**"
   ]
  },
  {
   "cell_type": "code",
   "execution_count": 41,
   "id": "4b2a1bea",
   "metadata": {},
   "outputs": [
    {
     "name": "stdout",
     "output_type": "stream",
     "text": [
      "Given list of strings: ['python', 'php', 'aba', 'radar', 'level']\n",
      "Palindromes in the list: ['php', 'aba', 'radar', 'level']\n"
     ]
    }
   ],
   "source": [
    "# Given list of strings\n",
    "words = ['python', 'php', 'aba', 'radar', 'level']\n",
    "\n",
    "# Using filter() and lambda to find palindromes \n",
    "palindrome_words = list(filter(lambda x: x==x[::-1], words))\n",
    "\n",
    "# Displaying the result\n",
    "print(\"Given list of strings:\", words)\n",
    "print(\"Palindromes in the list:\", palindrome_words)"
   ]
  },
  {
   "cell_type": "markdown",
   "id": "e1afd26a",
   "metadata": {},
   "source": [
    "---"
   ]
  },
  {
   "cell_type": "markdown",
   "id": "e6fd1bc0",
   "metadata": {},
   "source": [
    "# End of Assignment"
   ]
  }
 ],
 "metadata": {
  "kernelspec": {
   "display_name": "Python 3 (ipykernel)",
   "language": "python",
   "name": "python3"
  },
  "language_info": {
   "codemirror_mode": {
    "name": "ipython",
    "version": 3
   },
   "file_extension": ".py",
   "mimetype": "text/x-python",
   "name": "python",
   "nbconvert_exporter": "python",
   "pygments_lexer": "ipython3",
   "version": "3.10.9"
  }
 },
 "nbformat": 4,
 "nbformat_minor": 5
}
