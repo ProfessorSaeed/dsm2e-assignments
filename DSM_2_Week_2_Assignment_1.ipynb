{
 "cells": [
  {
   "cell_type": "markdown",
   "id": "1bd67ea3",
   "metadata": {},
   "source": [
    "# **Week 2 -- Assignment 1 -- Topic: Data Structures**"
   ]
  },
  {
   "cell_type": "markdown",
   "id": "89aec486",
   "metadata": {},
   "source": [
    "---"
   ]
  },
  {
   "cell_type": "markdown",
   "id": "76d7597a",
   "metadata": {},
   "source": [
    "**Q1. How do you comment a code in Python? What are the different types of comments?**"
   ]
  },
  {
   "cell_type": "markdown",
   "id": "eb4fff38",
   "metadata": {},
   "source": [
    "**Ans1.**\n",
    "\n",
    "- In Python, comments are used to add explanatory notes or annotations to the code. They enhance the readability of the code and help others to understand the code. They also help in collaborating with other developers as adding comments makes it easier to explain the code.\n",
    "\n",
    "- Comments are ignored by the Python interpreter and are meant for human readers to better understand the code.\n",
    "\n",
    "- There are two main types of comments in Python:\n",
    "    \n",
    "    - Single-line comments\n",
    "    \n",
    "    - Multi-line comments\n",
    "    \n",
    "**Single-line comments:** Single-line comments are created using the **#** character. Anything following the **#** on a line is considered a comment.\n",
    "\n",
    "Here's an example:"
   ]
  },
  {
   "cell_type": "code",
   "execution_count": 9,
   "id": "1107f5c7",
   "metadata": {},
   "outputs": [
    {
     "name": "stdout",
     "output_type": "stream",
     "text": [
      "Hello, World!\n"
     ]
    }
   ],
   "source": [
    "# This is a single-line comment to explain that print() function is used to print\n",
    "\n",
    "print(\"Hello, World!\")  # This is also a single-line comment at the end of the line"
   ]
  },
  {
   "cell_type": "markdown",
   "id": "c6d0d14b",
   "metadata": {},
   "source": [
    "**Multi-line comments:** Python doesn't have a specific syntax for multi-line comments. However, we can use triple quotes (either ''' or \"\"\") to create multi-line strings, and these strings are often used as a way to write multi-line comments."
   ]
  },
  {
   "cell_type": "code",
   "execution_count": 10,
   "id": "1c614558",
   "metadata": {},
   "outputs": [
    {
     "data": {
      "text/plain": [
       "'\\nThis is another\\nexample of a\\nmulti-line comment with triple quotes.\\n'"
      ]
     },
     "execution_count": 10,
     "metadata": {},
     "output_type": "execute_result"
    }
   ],
   "source": [
    "'''\n",
    "This is a\n",
    "multi-line\n",
    "comment using triple quotes.\n",
    "'''\n",
    "\n",
    "\"\"\"\n",
    "This is another\n",
    "example of a\n",
    "multi-line comment with triple quotes.\n",
    "\"\"\""
   ]
  },
  {
   "cell_type": "markdown",
   "id": "617e6c24",
   "metadata": {},
   "source": [
    "- Note: While using triple-quotes is a common convention, it's technically creating a string and not a comment. The advantage is that the string is not assigned to any variable and is therefore ignored by the interpreter.\n",
    "\n",
    "- Thus, using triple quotes for multi-line comments may have the unintended side effect of creating string literals, which could slightly impact the memory usage of our program. However, for practical purposes, it serves the purpose of commenting effectively."
   ]
  },
  {
   "cell_type": "markdown",
   "id": "2dda6e68",
   "metadata": {},
   "source": [
    "- **Docstring:** A docstring is also a type of comment in Python, but it serves a specific purpose beyond just providing comments for human readability. A docstring, short for \"documentation string,\" is a special type of comment used to document modules, classes, functions, and methods in Python. Docstrings are more structured than regular comments and have a specific format. A docstring is typically a triple-quoted string (using either single or double quotes) placed immediately after the definition of a module, class, function, or method. It provides a way to describe the purpose, usage, and any additional information about the code. Here's an example of a docstring for a function:"
   ]
  },
  {
   "cell_type": "code",
   "execution_count": 11,
   "id": "33c6194e",
   "metadata": {},
   "outputs": [],
   "source": [
    "def add_numbers(a, b):\n",
    "    \"\"\"\n",
    "    This function takes two numbers as arguments and returns their sum.\n",
    "\n",
    "    Parameters:\n",
    "    a (int): The first number.\n",
    "    b (int): The second number.\n",
    "\n",
    "    Returns:\n",
    "    int: The sum of a and b.\n",
    "    \"\"\"\n",
    "    return a + b"
   ]
  },
  {
   "cell_type": "markdown",
   "id": "7c83f764",
   "metadata": {},
   "source": [
    "- In this example, the docstring provides information about the purpose of the function, the parameters it accepts, and the type of values it returns.\n",
    "- Docstrings can be accessed at runtime using the `__doc__` attribute of the object."
   ]
  },
  {
   "cell_type": "code",
   "execution_count": 12,
   "id": "f3844a1e",
   "metadata": {},
   "outputs": [
    {
     "name": "stdout",
     "output_type": "stream",
     "text": [
      "\n",
      "    This function takes two numbers as arguments and returns their sum.\n",
      "\n",
      "    Parameters:\n",
      "    a (int): The first number.\n",
      "    b (int): The second number.\n",
      "\n",
      "    Returns:\n",
      "    int: The sum of a and b.\n",
      "    \n"
     ]
    }
   ],
   "source": [
    "print(add_numbers.__doc__)"
   ]
  },
  {
   "cell_type": "markdown",
   "id": "02914b2d",
   "metadata": {},
   "source": [
    "**Difference between docstrings and multi-line comments:**\n",
    "\n",
    "While docstrings and multi-line comments may look similar in terms of being multi-line text blocks, they serve different purposes in Python.\n",
    "\n",
    "**Docstring:**\n",
    "\n",
    "- A docstring is a special type of comment explicitly associated with documenting Python modules, classes, functions, and methods.\n",
    "- It is used to provide documentation that can be accessed at runtime using the `__doc__` attribute.\n",
    "- Docstrings follow a specific format and convention, often including information about parameters, return values, and usage examples.\n",
    "- Docstrings are more structured and have a specific role in generating documentation for code.\n",
    "\n",
    "**Multi-line comment:**\n",
    "\n",
    "- Regular multi-line comments, created using triple-quotes (''' or \"\"\"), are essentially strings in Python.\n",
    "- These comments are not associated with any specific programming construct and do not have a standardized format or purpose.\n",
    "- They are ignored by the Python interpreter, serving only as a way to include multi-line text for human readability.\n",
    "- While triple-quoted strings are commonly used for multi-line comments, they don't have the same significance as docstrings.\n",
    "\n",
    "In summary, while both docstrings and multi-line comments use triple-quoted strings, docstrings have a specific role in documenting code elements, providing structured information that can be utilized by documentation tools, and enhancing code readability. Multi-line comments, on the other hand, are just strings and lack the structured conventions and runtime accessibility that docstrings offer."
   ]
  },
  {
   "cell_type": "markdown",
   "id": "9a309aed",
   "metadata": {},
   "source": [
    "---"
   ]
  },
  {
   "cell_type": "markdown",
   "id": "da8848c5",
   "metadata": {},
   "source": [
    "**Q2. What are variables in Python? How do you declare and assign values to variables?**"
   ]
  },
  {
   "cell_type": "markdown",
   "id": "3d06e06c",
   "metadata": {},
   "source": [
    "**Ans2.**\n",
    "- In Python, a variable is a symbolic name that refers to a value. Variables are used to store and manipulate data within a program. Unlike some other programming languages, Python is dynamically typed, meaning we don't need to explicitly declare the data type of a variable. The type is inferred at runtime.\n",
    "\n",
    "- To **declare** a variable and **assign** a value to it, we simply use the assignment operator (=). Here's a basic example:"
   ]
  },
  {
   "cell_type": "code",
   "execution_count": 13,
   "id": "85576df6",
   "metadata": {},
   "outputs": [],
   "source": [
    "# Variable declaration and assignment\n",
    "my_variable = 42\n",
    "\n",
    "another_variable = \"Hello, World!\""
   ]
  },
  {
   "cell_type": "markdown",
   "id": "5158fef8",
   "metadata": {},
   "source": [
    "- In the example above:\n",
    "\n",
    "    - The variable named **my_variable** is assigned the integer value **42**.\n",
    "    - The variable named **another_variable** is assigned the string value **\"Hello, World!\"**.\n",
    "    \n",
    "- Rules for naming a vaiable:\n",
    "\n",
    "    - Variable names can contain letters, numbers, and underscores.\n",
    "    - They cannot start with a number.\n",
    "    - Python has reserved keywords that cannot be used as variable names.\n",
    "\n",
    "- Reassignment: In Python, we can reassign variables with values of different types."
   ]
  },
  {
   "cell_type": "code",
   "execution_count": 15,
   "id": "0af122f6",
   "metadata": {},
   "outputs": [
    {
     "name": "stdout",
     "output_type": "stream",
     "text": [
      "3.14\n"
     ]
    }
   ],
   "source": [
    "my_variable = 42 # Variable declaration and assignment\n",
    "\n",
    "my_variable = 3.14 # Variable can be reassigned with a new value of any type\n",
    "\n",
    "print(my_variable)"
   ]
  },
  {
   "cell_type": "markdown",
   "id": "5de04d45",
   "metadata": {},
   "source": [
    "- Case-sensitivity: Variables in Python are case-sensitive. This means that **my_variable**, **My_Variable**, and **MY_VARIABLE** would be treated as distinct and separate variables. Python distinguishes between uppercase and lowercase letters in variable names."
   ]
  },
  {
   "cell_type": "code",
   "execution_count": 16,
   "id": "fffaf85a",
   "metadata": {},
   "outputs": [
    {
     "name": "stdout",
     "output_type": "stream",
     "text": [
      "42\n",
      "Hello\n",
      "3.14\n"
     ]
    }
   ],
   "source": [
    "# These are three different variables based on upper and lower case differences\n",
    "my_variable = 42\n",
    "My_Variable = \"Hello\"\n",
    "MY_VARIABLE = 3.14\n",
    "\n",
    "print(my_variable)\n",
    "print(My_Variable)\n",
    "print(MY_VARIABLE)"
   ]
  },
  {
   "cell_type": "markdown",
   "id": "99499141",
   "metadata": {},
   "source": [
    "- Conventions: It's a common convention in Python to use lowercase letters and underscores for variable names. This is known as **snake_case**. \n",
    "- Snake_case is a style of naming convention used in programming, including Python, for naming variables, functions, and sometimes other identifiers. In snake_case:\n",
    "    - Words are written in lowercase.\n",
    "    - Words are separated by underscores (_).\n",
    "- In the examples above, the variables **my_variable** and **another_variable** are named using the snake_case convention. This style is widely used in Python, and it is recommended in the official Python style guide, PEP 8.\n",
    "- Using a consistent naming convention helps make the code more readable and maintainable. Snake_case is just one of many naming conventions, and its use is common in Python and many other programming languages. Other conventions, such as CamelCase, kebab-case, and PascalCase, are used in different contexts or by different programming communities. However, in Python, snake_case is the convention recommended by PEP 8."
   ]
  },
  {
   "cell_type": "markdown",
   "id": "5e09232c",
   "metadata": {},
   "source": [
    "---"
   ]
  },
  {
   "cell_type": "markdown",
   "id": "c2792f58",
   "metadata": {},
   "source": [
    "**Q3. How do you convert one data type to another in Python?**"
   ]
  },
  {
   "cell_type": "markdown",
   "id": "488365bd",
   "metadata": {},
   "source": [
    "**Ans3.**\n",
    "- There are two ways of Type Conversion in Python: **Implicit Type Conversion (Coercion)** & **Explicit Type Conversion (Casting)**.\n",
    "    \n",
    "- **Implicit Type Conversion (Coercion):**\n",
    "    - Python automatically performs some type conversions when an operation involves two different data types. This is known as **coercion**.\n",
    "    - For example, when you add an integer and a float, the integer is implicitly converted to a float for the operation. The reason for the float value not being converted into an integer instead is that Python prevents Implicit Type Conversion from losing data."
   ]
  },
  {
   "cell_type": "code",
   "execution_count": 44,
   "id": "1e5288e4",
   "metadata": {},
   "outputs": [
    {
     "name": "stdout",
     "output_type": "stream",
     "text": [
      "8.14\n"
     ]
    }
   ],
   "source": [
    "# Implicit conversion example\n",
    "int_value = 5\n",
    "float_value = 3.14\n",
    "\n",
    "result = int_value + float_value  # int_value is implicitly converted to float\n",
    "print(result)"
   ]
  },
  {
   "cell_type": "markdown",
   "id": "556e93a7",
   "metadata": {},
   "source": [
    "- **Explicit Type Conversion (Casting)**: In Python, we can also explicitly convert one data type to another using constructor functions. Common constructor functions include:\n",
    "    \n",
    "    - **int():** Used to convert a number or a string representing a whole number to an integer.\n",
    "    \n",
    "    - **float():** Used to convert a number or a string representing a number to a floating-point number.\n",
    "    \n",
    "    - **str():** Used to convert a value to a string.\n",
    "    \n",
    "    - **bool():** Used to convert a value to a boolean. Most values are considered **'True'**, except for **'False'**, **'None'**, numeric zero (0 or 0.0), empty sequences (e.g., empty strings, lists, tuples) and empty containers (e.g., sets, dictionaries).\n",
    "    \n",
    "    - **complex():** Used to create a complex number from real and imaginary parts.\n",
    "    \n",
    "    - **list():** Used to create a list from an iterable (e.g., a set, tuple, string, or range).\n",
    "    \n",
    "    - **tuple():** Used to create a tuple from an iterable (e.g., a set, list, string, or range).\n",
    "    \n",
    "    - **set():** Used to create a set from an iterable (e.g., a list, tuple, or string).\n",
    "    \n",
    "    - **dict():** Used to create a dictionary."
   ]
  },
  {
   "cell_type": "code",
   "execution_count": 82,
   "id": "99e59bfd",
   "metadata": {},
   "outputs": [
    {
     "name": "stdout",
     "output_type": "stream",
     "text": [
      "Data type of 5 is <class 'int'>\n",
      "Data type of 5.0 is <class 'float'>\n",
      "Data type of 5 is <class 'str'>\n"
     ]
    }
   ],
   "source": [
    "# Explicit conversion example\n",
    "int_value = 5\n",
    "float_value = float(int_value)  # Convert int to float\n",
    "str_value = str(int_value)      # Convert int to str\n",
    "\n",
    "print(f\"Data type of {int_value} is {type(int_value)}\")\n",
    "print(f\"Data type of {float_value} is {type(float_value)}\")\n",
    "print(f\"Data type of {str_value} is {type(str_value)}\")"
   ]
  },
  {
   "cell_type": "code",
   "execution_count": 84,
   "id": "1bd60b30",
   "metadata": {},
   "outputs": [
    {
     "name": "stdout",
     "output_type": "stream",
     "text": [
      "Data type of 123 is <class 'str'>\n",
      "Data type of 123 is <class 'int'>\n",
      "Data type of 123.0 is <class 'float'>\n"
     ]
    }
   ],
   "source": [
    "# Explicit conversion example\n",
    "numeric_string = \"123\"\n",
    "numeric_int = int(numeric_string)     # Convert str to int\n",
    "numeric_float = float(numeric_string) # Convert str to float\n",
    "\n",
    "print(f\"Data type of {numeric_string} is {type(numeric_string)}\")\n",
    "print(f\"Data type of {numeric_int} is {type(numeric_int)}\")\n",
    "print(f\"Data type of {numeric_float} is {type(numeric_float)}\")"
   ]
  },
  {
   "cell_type": "markdown",
   "id": "4d2e3be9",
   "metadata": {},
   "source": [
    "- Note that not all conversions are valid, and attempting to convert incompatible types may result in errors.\n",
    "- For example: trying to convert the strings \"2.0\" and \"Hello\" to an integer raises a ValueError because these strings are not a valid representation of an integer. The string \"2.0\" can be converted to a float but not an integer. However, the string \"Hello\" can neither be converted to an integer nor a float."
   ]
  },
  {
   "cell_type": "code",
   "execution_count": 47,
   "id": "34cbcce8",
   "metadata": {},
   "outputs": [
    {
     "ename": "ValueError",
     "evalue": "invalid literal for int() with base 10: '2.0'",
     "output_type": "error",
     "traceback": [
      "\u001b[1;31m---------------------------------------------------------------------------\u001b[0m",
      "\u001b[1;31mValueError\u001b[0m                                Traceback (most recent call last)",
      "Cell \u001b[1;32mIn[47], line 2\u001b[0m\n\u001b[0;32m      1\u001b[0m my_string \u001b[38;5;241m=\u001b[39m \u001b[38;5;124m\"\u001b[39m\u001b[38;5;124m2.0\u001b[39m\u001b[38;5;124m\"\u001b[39m\n\u001b[1;32m----> 2\u001b[0m int_value \u001b[38;5;241m=\u001b[39m \u001b[38;5;28;43mint\u001b[39;49m\u001b[43m(\u001b[49m\u001b[43mmy_string\u001b[49m\u001b[43m)\u001b[49m\n",
      "\u001b[1;31mValueError\u001b[0m: invalid literal for int() with base 10: '2.0'"
     ]
    }
   ],
   "source": [
    "my_string = \"2.0\"\n",
    "int_value = int(my_string)"
   ]
  },
  {
   "cell_type": "code",
   "execution_count": 48,
   "id": "cf6a3111",
   "metadata": {},
   "outputs": [
    {
     "ename": "ValueError",
     "evalue": "invalid literal for int() with base 10: 'Hello'",
     "output_type": "error",
     "traceback": [
      "\u001b[1;31m---------------------------------------------------------------------------\u001b[0m",
      "\u001b[1;31mValueError\u001b[0m                                Traceback (most recent call last)",
      "Cell \u001b[1;32mIn[48], line 2\u001b[0m\n\u001b[0;32m      1\u001b[0m my_string \u001b[38;5;241m=\u001b[39m \u001b[38;5;124m\"\u001b[39m\u001b[38;5;124mHello\u001b[39m\u001b[38;5;124m\"\u001b[39m\n\u001b[1;32m----> 2\u001b[0m int_value \u001b[38;5;241m=\u001b[39m \u001b[38;5;28;43mint\u001b[39;49m\u001b[43m(\u001b[49m\u001b[43mmy_string\u001b[49m\u001b[43m)\u001b[49m\n",
      "\u001b[1;31mValueError\u001b[0m: invalid literal for int() with base 10: 'Hello'"
     ]
    }
   ],
   "source": [
    "my_string = \"Hello\"\n",
    "int_value = int(my_string)"
   ]
  },
  {
   "cell_type": "markdown",
   "id": "7765dd52",
   "metadata": {},
   "source": [
    "- There are also built-in functions in Python that are used for character and number conversions. Here are some common examples of such functions:\n",
    "    - **chr():** This function takes an integer representing a Unicode code point and returns the corresponding character.\n",
    "    \n",
    "    - **ord():** This function takes a character and returns its Unicode code point as an integer.\n",
    "    \n",
    "    - **hex():** This function takes an integer and returns its hexadecimal representation as a string.\n",
    "    \n",
    "    - **oct():** This function takes an integer and returns its octal representation as a string."
   ]
  },
  {
   "cell_type": "markdown",
   "id": "fdb1df1b",
   "metadata": {},
   "source": [
    "---"
   ]
  },
  {
   "cell_type": "markdown",
   "id": "54eb441b",
   "metadata": {},
   "source": [
    "**Q4. How do you write and execute a Python script from the command line?**"
   ]
  },
  {
   "cell_type": "markdown",
   "id": "806071eb",
   "metadata": {},
   "source": [
    "**Ans4.**\n",
    "- Writing and executing a Python script from the command line involves (a) Creating & Saving a File that contains the Python Script and (b) Executing the Python Script from the Command Line.\n",
    "\n",
    "- Steps to create a text file with a .py extension:\n",
    "\n",
    "    - Step 1: Open a text editor (such as Notepad, VSCode, or any text editor).\n",
    "    - Step 2: Write the Python code in the text editor.\n",
    "        \n",
    "        For example, create a simple script that prints \"Hello, World!\" to the console: **print(\"Hello, World!\")**\n",
    "        \n",
    "    - Step 3: Save the file with a .py extension.\n",
    "        \n",
    "        For example, save the file as **hello_world.py**\n",
    "\n",
    "- Steps to execute the Python Script from the Command Line:\n",
    "\n",
    "    - Step 1: Open a command prompt or terminal window.\n",
    "    - Step 2: Navigate to the directory where the Python script is located, using the cd command to change the directory.\n",
    "        \n",
    "        For example, **cd C:\\Users\\User1\\Documents\\Python Scripts**\n",
    "        \n",
    "    - Step 3: Once we are in the correct directory, run the Python script using the python command: **python hello_world.py**\n",
    "\n",
    "- This will execute the Python script, and we should see the output \"Hello, World!\" printed to the console."
   ]
  },
  {
   "cell_type": "markdown",
   "id": "6a7b9cd8",
   "metadata": {},
   "source": [
    "---"
   ]
  },
  {
   "cell_type": "markdown",
   "id": "34a7b70b",
   "metadata": {},
   "source": [
    "**Q5. Given a list my_list = [1, 2, 3, 4, 5], write the code to slice the list and obtain the sub-list [2, 3].**"
   ]
  },
  {
   "cell_type": "markdown",
   "id": "40e3d9ef",
   "metadata": {},
   "source": [
    "**Ans5.**\n",
    "\n",
    "- To obtain the sub-list [2, 3] from the given list **my_list = [1, 2, 3, 4, 5]**, we can use list slicing.\n",
    "\n",
    "- To do list slicing, we need to know about the indexing in lists.\n",
    "\n",
    "- Positive indexing: The first element of the list has the index number 0, second element has index number 1 and so on. The last element of the list has the index number n-1, where n is the total number of elements in the list (size of the list).\n",
    "\n",
    "- Negative indexing: Index -1 represents the last element, index -2 represents the second-to-last element and so on. Index -n represents the first element of the list, where n is the length of the list.\n",
    "\n",
    "- Now let's understand the slicing in lists using the indices.\n",
    "\n",
    "- The general form of slicing is **list[start:stop:step]**, where **start** is the starting index (inclusive), **stop** is the ending index (exclusive), and **step** is the step size between elements.\n",
    "\n",
    "- List slicing is a way to extract a portion of a list by specifying start, stop, and step indices. \n",
    "\n",
    "- We can give any integer number specifying at which position to start the slicing (default value for start is 0).\n",
    "\n",
    "- Also, we can give any integer number specifying at which position to end the slicing (default value for end is n, the length of the string).\n",
    "\n",
    "- Also, we can give any integer number specifying the step of the slicing (default value for step is 1).\n",
    "\n",
    "- Leaving any argument like start, stop, or step blank will lead to the use of the default values.\n",
    "\n",
    "- We can achieve the slice of the list by using only the positive indexing, or by using only the negative indexing, or by using a combination of both positive and negative indexing.\n",
    "\n",
    "- The given list is **my_list = [1, 2, 3, 4, 5]** and we have to obtain the sub-list [2, 3].\n",
    "\n",
    "- Slice using only positive indexing:\n",
    "    - **my_list[1:3]:** This syntax means to start at index 1 (inclusive) and go up to index 3 (exclusive). Therefore, it extracts elements at indices 1 and 2, which are 2 and 3 in the original list.\n",
    "\n",
    "- Slice using only negative indexing:\n",
    "    - **my_list[-4:-2]:** This syntax means to start at the fourth-to-last element (inclusive) and go up to the second-to-last element (exclusive). Therefore, it extracts elements at indices -4 and -3, which are 2 and 3 in the original list.\n",
    "    \n",
    "- Slice using a combination of positive and negative indexing:\n",
    "    - **my_list[1:-2]:** This syntax involves two indices separated by a colon in the square bracket notation. The positive index 1 corresponds to the second element of the list (my_list[1]), which is 2. This index is inclusive. The negative index -2 corresponds to the second-to-last element of the list (my_list[-2]), which is 4. This index is exclusive. The result is a sub-list that includes elements starting from the second element (2) and up to, but not including, the second-to-last element (4). Therefore, the sub-list is [2, 3]."
   ]
  },
  {
   "cell_type": "code",
   "execution_count": 68,
   "id": "5fec79e4",
   "metadata": {},
   "outputs": [
    {
     "name": "stdout",
     "output_type": "stream",
     "text": [
      "[2, 3]\n"
     ]
    }
   ],
   "source": [
    "# Code to obtain the sub-list [2,3] using positive indexing\n",
    "my_list = [1, 2, 3, 4, 5]\n",
    "sub_list = my_list[1:3]\n",
    "print(sub_list)"
   ]
  },
  {
   "cell_type": "code",
   "execution_count": 69,
   "id": "3757467f",
   "metadata": {},
   "outputs": [
    {
     "name": "stdout",
     "output_type": "stream",
     "text": [
      "[2, 3]\n"
     ]
    }
   ],
   "source": [
    "# Code to obtain the sub-list [2,3] using negative indexing\n",
    "my_list = [1, 2, 3, 4, 5]\n",
    "sub_list = my_list[-4:-2]\n",
    "print(sub_list)"
   ]
  },
  {
   "cell_type": "code",
   "execution_count": 70,
   "id": "e7368a01",
   "metadata": {},
   "outputs": [
    {
     "name": "stdout",
     "output_type": "stream",
     "text": [
      "[2, 3]\n"
     ]
    }
   ],
   "source": [
    "# Code to obtain the sub-list [2,3] using a combination of positive and negative indexing\n",
    "my_list = [1, 2, 3, 4, 5]\n",
    "sub_list = my_list[1:-2]\n",
    "print(sub_list)"
   ]
  },
  {
   "cell_type": "markdown",
   "id": "3ff01241",
   "metadata": {},
   "source": [
    "- Another method to obtain the sub-list [2, 3] without using indexing is by using the slice() function.\n",
    "- Syntax: slice(start, end, step)\n",
    "- Parameters:\n",
    "    - start (Optional): An integer number specifying at which position to start the slicing (Default is 0)\n",
    "    - end (Required): An integer number specifying at which position to end the slicing\n",
    "    - step (Optional): An integer number specifying the step of the slicing (Default is 1)\n",
    "- The slice() function returns a slice object, which is used to specify how to slice a sequence.\n",
    "- For example by **x = slice(1, 3)** we create a slice object with a start index of 1 (inclusive) and an end index of 3 (exclusive); then we can apply the slice object directly to **my_list** using square brackets, **my_list[x]**, which effectively extracts the sub-list [2, 3]."
   ]
  },
  {
   "cell_type": "code",
   "execution_count": 71,
   "id": "d1efb82b",
   "metadata": {},
   "outputs": [
    {
     "name": "stdout",
     "output_type": "stream",
     "text": [
      "[2, 3]\n"
     ]
    }
   ],
   "source": [
    "# Code to obtain the sub-list using slice() function:\n",
    "my_list = [1, 2, 3, 4, 5]\n",
    "x = slice(1,3)\n",
    "print(my_list[x])"
   ]
  },
  {
   "cell_type": "code",
   "execution_count": 72,
   "id": "17b6f252",
   "metadata": {},
   "outputs": [
    {
     "data": {
      "text/plain": [
       "slice(1, 3, None)"
      ]
     },
     "execution_count": 72,
     "metadata": {},
     "output_type": "execute_result"
    }
   ],
   "source": [
    "x"
   ]
  },
  {
   "cell_type": "code",
   "execution_count": 73,
   "id": "61feb460",
   "metadata": {},
   "outputs": [
    {
     "data": {
      "text/plain": [
       "slice"
      ]
     },
     "execution_count": 73,
     "metadata": {},
     "output_type": "execute_result"
    }
   ],
   "source": [
    "type(x)"
   ]
  },
  {
   "cell_type": "markdown",
   "id": "248ac3e2",
   "metadata": {},
   "source": [
    "---"
   ]
  },
  {
   "cell_type": "markdown",
   "id": "1fad2790",
   "metadata": {},
   "source": [
    "**Q6. What is a complex number in mathematics, and how is it represented in Python?**"
   ]
  },
  {
   "cell_type": "markdown",
   "id": "d3c8d0b7",
   "metadata": {},
   "source": [
    "**Ans6.**\n",
    "- In mathematics, a complex number is a number that comprises both a real part and an imaginary part. It is expressed in the form: <br>\n",
    "$ z = a + bi $, where $z$ is the complex number, $a$ is the real part, $b$ is the imaginary part, $i$ is the imaginary unit (defined as $\\sqrt(-1)$)\n",
    "- The real part and imaginary part are real numbers.\n",
    "- Complex numbers extend the concept of real numbers to include quantities involving the square root of negative numbers.\n",
    "- In Python, complex numbers are represented using the `complex()` built-in function or by using the j or J suffix for the imaginary part.\n",
    "- We can perform various operations with complex numbers in Python, such as addition, subtraction, multiplication, division, and more. The cmath module in Python provides functions for complex number arithmetic and mathematical operations."
   ]
  },
  {
   "cell_type": "code",
   "execution_count": 75,
   "id": "0bd023a5",
   "metadata": {},
   "outputs": [
    {
     "name": "stdout",
     "output_type": "stream",
     "text": [
      "(2+3j)\n",
      "(4+5j)\n"
     ]
    }
   ],
   "source": [
    "# Using complex()\n",
    "z1 = complex(2, 3)\n",
    "\n",
    "# Using j suffix\n",
    "z2 = 4 + 5j\n",
    "\n",
    "print(z1)\n",
    "print(z2)"
   ]
  },
  {
   "cell_type": "markdown",
   "id": "1f8e009d",
   "metadata": {},
   "source": [
    "---"
   ]
  },
  {
   "cell_type": "markdown",
   "id": "38445749",
   "metadata": {},
   "source": [
    "**Q7. What is the correct way to declare a variable named age and assign the value 25 to it?**"
   ]
  },
  {
   "cell_type": "markdown",
   "id": "81f898ba",
   "metadata": {},
   "source": [
    "**Ans7.**"
   ]
  },
  {
   "cell_type": "code",
   "execution_count": 76,
   "id": "72bff2d8",
   "metadata": {},
   "outputs": [],
   "source": [
    "age = 25"
   ]
  },
  {
   "cell_type": "markdown",
   "id": "41206343",
   "metadata": {},
   "source": [
    "- The above line of code shows the correct way to declare a variable named **age** and assign the value **25** to it.\n",
    "- In this line of code:\n",
    "    - **age** is the variable name.\n",
    "    - The = (assignment operator) is used to assign the value on the right side to the variable on the left side.\n",
    "    - **25** is the value assigned to the variable **age**.\n",
    "- After this line of code, we can use the variable **age** to represent the value **25** in our Python program.\n",
    "- It's important to note that Python is a dynamically-typed language, meaning we don't need to explicitly declare the type of the variable. The type of the variable is inferred based on the value assigned to it.\n",
    "- Also, we should follow the rules for declaring python variables:\n",
    "    - A variable name can only contain alpha-numeric characters and underscore character.\n",
    "    - A variable name must start with a letter or the underscore character.\n",
    "    - A variable name cannot start with a number.\n",
    "    - Variable names are case-sensitive (age, Age and AGE are three different variables)"
   ]
  },
  {
   "cell_type": "markdown",
   "id": "21e57dfb",
   "metadata": {},
   "source": [
    "---"
   ]
  },
  {
   "cell_type": "markdown",
   "id": "1d3e119f",
   "metadata": {},
   "source": [
    "**Q8. Declare a variable named price and assign the value 9.99 to it. What data type does this variable belong to?**"
   ]
  },
  {
   "cell_type": "markdown",
   "id": "142faca2",
   "metadata": {},
   "source": [
    "**Ans8.**"
   ]
  },
  {
   "cell_type": "code",
   "execution_count": 78,
   "id": "90eeef39",
   "metadata": {},
   "outputs": [
    {
     "data": {
      "text/plain": [
       "float"
      ]
     },
     "execution_count": 78,
     "metadata": {},
     "output_type": "execute_result"
    }
   ],
   "source": [
    "price = 9.99\n",
    "type(price)"
   ]
  },
  {
   "cell_type": "markdown",
   "id": "a497119a",
   "metadata": {},
   "source": [
    "- The above lines of code shows how to declare a variable named **price** and assign the value **9.99** to it, and then know the data type of the variable.\n",
    "- The variable **price** in this example is assigned a floating-point number (9.99). Therefore, the data type of the variable price is a floating-point number, often referred to as **float** in Python.\n",
    "- In Python, a **float** is a data type that represents decimal numbers. It can represent both whole numbers and fractional parts. In this case, **9.99** is a floating-point literal, and when assigned to the variable **price**, it becomes a variable of type **float**."
   ]
  },
  {
   "cell_type": "markdown",
   "id": "9d58f1d1",
   "metadata": {},
   "source": [
    "---"
   ]
  },
  {
   "cell_type": "markdown",
   "id": "6e43d2fe",
   "metadata": {},
   "source": [
    "**Q9. Create a variable named name and assign your full name to it as a string. How would you print the value of this variable?**"
   ]
  },
  {
   "cell_type": "markdown",
   "id": "2054f891",
   "metadata": {},
   "source": [
    "**Ans9.**"
   ]
  },
  {
   "cell_type": "code",
   "execution_count": 79,
   "id": "3f2a509f",
   "metadata": {},
   "outputs": [
    {
     "name": "stdout",
     "output_type": "stream",
     "text": [
      "Saeed Patel\n"
     ]
    }
   ],
   "source": [
    "name = \"Saeed Patel\"\n",
    "print(name)"
   ]
  },
  {
   "cell_type": "markdown",
   "id": "fcee96d8",
   "metadata": {},
   "source": [
    "- The above lines of code shows how to create a variable named **name** and assign your full name to it as a **string**, and then print the value stored in the variable.\n",
    "- In Python, a **string** is an immutable data type used to represent text. A **string** is a sequence of characters, and each character in the string can be a letter, digit, whitespace, punctuation mark, or any other symbol. Strings are widely used in programming for tasks involving textual data, such as storing names, addresses, messages, and more.\n",
    "- In Python, strings are represented using either single quotes (') or double quotes (\").\n",
    "- Next, the `print()` function is used to output information to the console (standard output). It is a built-in function that takes one or more arguments, prints them to the console, and adds a newline character by default.\n",
    "- Here's the basic syntax of the `print()` function: **print(value1, value2, ..., sep=' ', end='\\n', file=sys.stdout, flush=False)**\n",
    "    - **value1, value2, ...** : The values or expressions to be printed. We can provide multiple values separated by commas.\n",
    "\n",
    "    - **sep=' '** : The separator between the values. The default is a space character.\n",
    "\n",
    "    - **end='\\n'** : The string that is printed at the end. The default is a newline character, which means a new line is added after printing the values.\n",
    "\n",
    "    - **file=sys.stdout** : Specifies the output file. The default is the standard output (sys.stdout), which corresponds to the console.\n",
    "\n",
    "    - **flush=False** : If **True**, the output is flushed (written to the file) immediately. The default is **False**."
   ]
  },
  {
   "cell_type": "markdown",
   "id": "df09eef0",
   "metadata": {},
   "source": [
    "---"
   ]
  },
  {
   "cell_type": "markdown",
   "id": "06c01361",
   "metadata": {},
   "source": [
    "**Q10. Given the string \"Hello, World!\", extract the substring \"World\".**"
   ]
  },
  {
   "cell_type": "markdown",
   "id": "ab491f7d",
   "metadata": {},
   "source": [
    "**Ans10.**"
   ]
  },
  {
   "cell_type": "code",
   "execution_count": 80,
   "id": "4759a925",
   "metadata": {},
   "outputs": [
    {
     "name": "stdout",
     "output_type": "stream",
     "text": [
      "World\n"
     ]
    }
   ],
   "source": [
    "original_string = \"Hello, World!\"\n",
    "\n",
    "# Extracting the substring \"World\" using slicing\n",
    "substring = original_string[7:12]\n",
    "\n",
    "print(substring)"
   ]
  },
  {
   "cell_type": "markdown",
   "id": "6c93c7b8",
   "metadata": {},
   "source": [
    "- The above code shows how to extract the substring \"World\" from the string \"Hello, World!\", using string slicing.\n",
    "- In this example:\n",
    "    - First, the variable **original_string** stores the string \"Hello, World!\".\n",
    "    - Then **original_string[7:12]** uses slicing to extract a substring starting from index 7 (inclusive) and ending at index 12 (exclusive). The characters at indices 7, 8, 9, 10, and 11 correspond to \"W\", \"o\", \"r\", \"l\", and \"d\", respectively. The result is assigned to the variable **substring**.\n",
    "    - Finally, **print(substring)** prints the extracted substring \"World\" to the console."
   ]
  },
  {
   "cell_type": "markdown",
   "id": "9ad4bc7e",
   "metadata": {},
   "source": [
    "---"
   ]
  },
  {
   "cell_type": "markdown",
   "id": "3b553dd9",
   "metadata": {},
   "source": [
    "**Q11. Create a variable named \"is_student\" and assign it a boolean value indicating whether you are currently a student or not.**"
   ]
  },
  {
   "cell_type": "markdown",
   "id": "2337abf8",
   "metadata": {},
   "source": [
    "**Ans11.**"
   ]
  },
  {
   "cell_type": "code",
   "execution_count": 81,
   "id": "76408e11",
   "metadata": {},
   "outputs": [],
   "source": [
    "is_student = True"
   ]
  },
  {
   "cell_type": "markdown",
   "id": "2be470a4",
   "metadata": {},
   "source": [
    "- In the above line of code, the variable **is_student** is assgined boolean value **True**.\n",
    "- A boolean value, is a data type that represents either of two possible states:\n",
    "    - **True**: Represents the truth or a positive condition.\n",
    "    - **False**: Represents the falsehood or a negative condition.\n",
    "- The boolean data type is named after the mathematician George Boole, who developed Boolean algebra. Boolean values are fundamental in programming, especially in constructs like conditional statements (e.g., if, else, elif), loops, and logical operations. They allow programs to make decisions and control the flow of execution based on the evaluation of conditions."
   ]
  },
  {
   "cell_type": "markdown",
   "id": "d8ea6afe",
   "metadata": {},
   "source": [
    "---"
   ]
  },
  {
   "cell_type": "markdown",
   "id": "1a939cf8",
   "metadata": {},
   "source": [
    "# End of Assignment"
   ]
  }
 ],
 "metadata": {
  "kernelspec": {
   "display_name": "Python 3 (ipykernel)",
   "language": "python",
   "name": "python3"
  },
  "language_info": {
   "codemirror_mode": {
    "name": "ipython",
    "version": 3
   },
   "file_extension": ".py",
   "mimetype": "text/x-python",
   "name": "python",
   "nbconvert_exporter": "python",
   "pygments_lexer": "ipython3",
   "version": "3.10.9"
  }
 },
 "nbformat": 4,
 "nbformat_minor": 5
}
